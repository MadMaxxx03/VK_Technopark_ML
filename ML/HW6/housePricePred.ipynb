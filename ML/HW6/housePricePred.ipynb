{
 "cells": [
  {
   "cell_type": "code",
   "execution_count": 69,
   "id": "7ce51e70",
   "metadata": {},
   "outputs": [],
   "source": [
    "import pandas as pd\n",
    "import numpy as np\n",
    "from sklearn.model_selection import train_test_split\n",
    "from sklearn.metrics import mean_absolute_error\n",
    "from sklearn.model_selection import GridSearchCV\n",
    "from catboost import CatBoostRegressor\n",
    "from sklearn.ensemble import RandomForestRegressor\n",
    "from sklearn.tree import DecisionTreeRegressor"
   ]
  },
  {
   "cell_type": "code",
   "execution_count": 70,
   "id": "6aa3de35",
   "metadata": {},
   "outputs": [
    {
     "name": "stdout",
     "output_type": "stream",
     "text": [
      "(100000, 24)\n"
     ]
    },
    {
     "data": {
      "text/html": [
       "<div>\n",
       "<style scoped>\n",
       "    .dataframe tbody tr th:only-of-type {\n",
       "        vertical-align: middle;\n",
       "    }\n",
       "\n",
       "    .dataframe tbody tr th {\n",
       "        vertical-align: top;\n",
       "    }\n",
       "\n",
       "    .dataframe thead th {\n",
       "        text-align: right;\n",
       "    }\n",
       "</style>\n",
       "<table border=\"1\" class=\"dataframe\">\n",
       "  <thead>\n",
       "    <tr style=\"text-align: right;\">\n",
       "      <th></th>\n",
       "      <th>date</th>\n",
       "      <th>street_id</th>\n",
       "      <th>build_tech</th>\n",
       "      <th>floor</th>\n",
       "      <th>area</th>\n",
       "      <th>rooms</th>\n",
       "      <th>balcon</th>\n",
       "      <th>metro_dist</th>\n",
       "      <th>g_lift</th>\n",
       "      <th>n_photos</th>\n",
       "      <th>...</th>\n",
       "      <th>kw5</th>\n",
       "      <th>kw6</th>\n",
       "      <th>kw7</th>\n",
       "      <th>kw8</th>\n",
       "      <th>kw9</th>\n",
       "      <th>kw10</th>\n",
       "      <th>kw11</th>\n",
       "      <th>kw12</th>\n",
       "      <th>kw13</th>\n",
       "      <th>price</th>\n",
       "    </tr>\n",
       "    <tr>\n",
       "      <th>id</th>\n",
       "      <th></th>\n",
       "      <th></th>\n",
       "      <th></th>\n",
       "      <th></th>\n",
       "      <th></th>\n",
       "      <th></th>\n",
       "      <th></th>\n",
       "      <th></th>\n",
       "      <th></th>\n",
       "      <th></th>\n",
       "      <th></th>\n",
       "      <th></th>\n",
       "      <th></th>\n",
       "      <th></th>\n",
       "      <th></th>\n",
       "      <th></th>\n",
       "      <th></th>\n",
       "      <th></th>\n",
       "      <th></th>\n",
       "      <th></th>\n",
       "      <th></th>\n",
       "    </tr>\n",
       "  </thead>\n",
       "  <tbody>\n",
       "    <tr>\n",
       "      <th>0</th>\n",
       "      <td>2011-1</td>\n",
       "      <td>560</td>\n",
       "      <td>NaN</td>\n",
       "      <td>2</td>\n",
       "      <td>59</td>\n",
       "      <td>3</td>\n",
       "      <td>0</td>\n",
       "      <td>30.0</td>\n",
       "      <td>1.0</td>\n",
       "      <td>5</td>\n",
       "      <td>...</td>\n",
       "      <td>0</td>\n",
       "      <td>0</td>\n",
       "      <td>0</td>\n",
       "      <td>0</td>\n",
       "      <td>0</td>\n",
       "      <td>0</td>\n",
       "      <td>0</td>\n",
       "      <td>0</td>\n",
       "      <td>0</td>\n",
       "      <td>4510000</td>\n",
       "    </tr>\n",
       "    <tr>\n",
       "      <th>1</th>\n",
       "      <td>2011-1</td>\n",
       "      <td>667</td>\n",
       "      <td>NaN</td>\n",
       "      <td>10</td>\n",
       "      <td>50</td>\n",
       "      <td>2</td>\n",
       "      <td>1</td>\n",
       "      <td>25.0</td>\n",
       "      <td>NaN</td>\n",
       "      <td>1</td>\n",
       "      <td>...</td>\n",
       "      <td>0</td>\n",
       "      <td>0</td>\n",
       "      <td>0</td>\n",
       "      <td>0</td>\n",
       "      <td>0</td>\n",
       "      <td>0</td>\n",
       "      <td>0</td>\n",
       "      <td>0</td>\n",
       "      <td>0</td>\n",
       "      <td>13231000</td>\n",
       "    </tr>\n",
       "  </tbody>\n",
       "</table>\n",
       "<p>2 rows × 24 columns</p>\n",
       "</div>"
      ],
      "text/plain": [
       "      date  street_id  build_tech  floor  area  rooms  balcon  metro_dist  \\\n",
       "id                                                                          \n",
       "0   2011-1        560         NaN      2    59      3       0        30.0   \n",
       "1   2011-1        667         NaN     10    50      2       1        25.0   \n",
       "\n",
       "    g_lift  n_photos  ...  kw5  kw6  kw7  kw8  kw9  kw10  kw11  kw12  kw13  \\\n",
       "id                    ...                                                    \n",
       "0      1.0         5  ...    0    0    0    0    0     0     0     0     0   \n",
       "1      NaN         1  ...    0    0    0    0    0     0     0     0     0   \n",
       "\n",
       "       price  \n",
       "id            \n",
       "0    4510000  \n",
       "1   13231000  \n",
       "\n",
       "[2 rows x 24 columns]"
      ]
     },
     "execution_count": 70,
     "metadata": {},
     "output_type": "execute_result"
    }
   ],
   "source": [
    "train = pd.read_csv(\"train.csv\", index_col='id')\n",
    "print(train.shape)\n",
    "train.head(2)"
   ]
  },
  {
   "cell_type": "code",
   "execution_count": 71,
   "id": "d627a07f",
   "metadata": {},
   "outputs": [
    {
     "name": "stdout",
     "output_type": "stream",
     "text": [
      "(100000, 23)\n"
     ]
    },
    {
     "data": {
      "text/html": [
       "<div>\n",
       "<style scoped>\n",
       "    .dataframe tbody tr th:only-of-type {\n",
       "        vertical-align: middle;\n",
       "    }\n",
       "\n",
       "    .dataframe tbody tr th {\n",
       "        vertical-align: top;\n",
       "    }\n",
       "\n",
       "    .dataframe thead th {\n",
       "        text-align: right;\n",
       "    }\n",
       "</style>\n",
       "<table border=\"1\" class=\"dataframe\">\n",
       "  <thead>\n",
       "    <tr style=\"text-align: right;\">\n",
       "      <th></th>\n",
       "      <th>date</th>\n",
       "      <th>street_id</th>\n",
       "      <th>build_tech</th>\n",
       "      <th>floor</th>\n",
       "      <th>area</th>\n",
       "      <th>rooms</th>\n",
       "      <th>balcon</th>\n",
       "      <th>metro_dist</th>\n",
       "      <th>g_lift</th>\n",
       "      <th>n_photos</th>\n",
       "      <th>...</th>\n",
       "      <th>kw4</th>\n",
       "      <th>kw5</th>\n",
       "      <th>kw6</th>\n",
       "      <th>kw7</th>\n",
       "      <th>kw8</th>\n",
       "      <th>kw9</th>\n",
       "      <th>kw10</th>\n",
       "      <th>kw11</th>\n",
       "      <th>kw12</th>\n",
       "      <th>kw13</th>\n",
       "    </tr>\n",
       "    <tr>\n",
       "      <th>id</th>\n",
       "      <th></th>\n",
       "      <th></th>\n",
       "      <th></th>\n",
       "      <th></th>\n",
       "      <th></th>\n",
       "      <th></th>\n",
       "      <th></th>\n",
       "      <th></th>\n",
       "      <th></th>\n",
       "      <th></th>\n",
       "      <th></th>\n",
       "      <th></th>\n",
       "      <th></th>\n",
       "      <th></th>\n",
       "      <th></th>\n",
       "      <th></th>\n",
       "      <th></th>\n",
       "      <th></th>\n",
       "      <th></th>\n",
       "      <th></th>\n",
       "      <th></th>\n",
       "    </tr>\n",
       "  </thead>\n",
       "  <tbody>\n",
       "    <tr>\n",
       "      <th>100000</th>\n",
       "      <td>2012-3</td>\n",
       "      <td>459</td>\n",
       "      <td>NaN</td>\n",
       "      <td>1</td>\n",
       "      <td>60</td>\n",
       "      <td>3</td>\n",
       "      <td>1</td>\n",
       "      <td>30.0</td>\n",
       "      <td>0.0</td>\n",
       "      <td>4</td>\n",
       "      <td>...</td>\n",
       "      <td>0</td>\n",
       "      <td>0</td>\n",
       "      <td>0</td>\n",
       "      <td>0</td>\n",
       "      <td>0</td>\n",
       "      <td>0</td>\n",
       "      <td>0</td>\n",
       "      <td>0</td>\n",
       "      <td>0</td>\n",
       "      <td>0</td>\n",
       "    </tr>\n",
       "    <tr>\n",
       "      <th>100001</th>\n",
       "      <td>2012-3</td>\n",
       "      <td>344</td>\n",
       "      <td>1.0</td>\n",
       "      <td>10</td>\n",
       "      <td>52</td>\n",
       "      <td>2</td>\n",
       "      <td>1</td>\n",
       "      <td>NaN</td>\n",
       "      <td>NaN</td>\n",
       "      <td>4</td>\n",
       "      <td>...</td>\n",
       "      <td>0</td>\n",
       "      <td>0</td>\n",
       "      <td>0</td>\n",
       "      <td>0</td>\n",
       "      <td>0</td>\n",
       "      <td>0</td>\n",
       "      <td>0</td>\n",
       "      <td>0</td>\n",
       "      <td>0</td>\n",
       "      <td>0</td>\n",
       "    </tr>\n",
       "  </tbody>\n",
       "</table>\n",
       "<p>2 rows × 23 columns</p>\n",
       "</div>"
      ],
      "text/plain": [
       "          date  street_id  build_tech  floor  area  rooms  balcon  metro_dist  \\\n",
       "id                                                                              \n",
       "100000  2012-3        459         NaN      1    60      3       1        30.0   \n",
       "100001  2012-3        344         1.0     10    52      2       1         NaN   \n",
       "\n",
       "        g_lift  n_photos  ...  kw4  kw5  kw6  kw7  kw8  kw9  kw10  kw11  kw12  \\\n",
       "id                        ...                                                   \n",
       "100000     0.0         4  ...    0    0    0    0    0    0     0     0     0   \n",
       "100001     NaN         4  ...    0    0    0    0    0    0     0     0     0   \n",
       "\n",
       "        kw13  \n",
       "id            \n",
       "100000     0  \n",
       "100001     0  \n",
       "\n",
       "[2 rows x 23 columns]"
      ]
     },
     "execution_count": 71,
     "metadata": {},
     "output_type": "execute_result"
    }
   ],
   "source": [
    "test = pd.read_csv(\"test.csv\", index_col='id')\n",
    "print(test.shape)\n",
    "test.head(2)"
   ]
  },
  {
   "cell_type": "markdown",
   "id": "0e06b9c3",
   "metadata": {},
   "source": [
    "**Поиск и заполнение пропущенных значений**"
   ]
  },
  {
   "cell_type": "code",
   "execution_count": 72,
   "id": "69627d89",
   "metadata": {},
   "outputs": [
    {
     "name": "stdout",
     "output_type": "stream",
     "text": [
      "Столбец 'build_tech' имеет 29.73% пропущенных значений, тип данных: 'float64'\n",
      "Столбец 'metro_dist' имеет 4.90% пропущенных значений, тип данных: 'float64'\n",
      "Столбец 'g_lift' имеет 29.99% пропущенных значений, тип данных: 'float64'\n"
     ]
    }
   ],
   "source": [
    "def calculate_missing_values(df):\n",
    "    total_rows = df.shape[0]\n",
    "    for column in df.columns:\n",
    "        missing_values = df[column].isnull().sum()\n",
    "        if missing_values > 0:\n",
    "            missing_percentage = (missing_values / total_rows) * 100\n",
    "            print(f\"Столбец '{column}' имеет {missing_percentage:.2f}% пропущенных значений, тип данных: '{df[column].dtype}'\")\n",
    "\n",
    "calculate_missing_values(train)"
   ]
  },
  {
   "cell_type": "code",
   "execution_count": 73,
   "id": "a3d971a0",
   "metadata": {},
   "outputs": [],
   "source": [
    "#Округление значения до ближайшего значения из unique_metro_dists\n",
    "def round_to_nearest(value, unique_metro_dists):\n",
    "    nearest_value = min(unique_metro_dists, key=lambda x: abs(x - value))\n",
    "    return nearest_value"
   ]
  },
  {
   "cell_type": "code",
   "execution_count": 74,
   "id": "eae79126",
   "metadata": {},
   "outputs": [],
   "source": [
    "def preprocessing(df):\n",
    "    df['metro_dist'].fillna(df.groupby('street_id')['metro_dist'].transform('mean'), inplace=True)\n",
    "    df['metro_dist'].fillna(df['metro_dist'].mean(), inplace=True)\n",
    "    df['metro_dist'] = df['metro_dist'].apply(round_to_nearest, args=(df['metro_dist'].unique(),))\n",
    "    \n",
    "    df['build_tech'].fillna(df.groupby('street_id')['build_tech'].agg(lambda x: x.value_counts().index[0]), inplace=True)\n",
    "    df['build_tech'].fillna(df['build_tech'].agg(lambda x: x.value_counts().index[0]), inplace=True)\n",
    "\n",
    "\n",
    "    df['g_lift'].fillna(df.groupby('street_id')['g_lift'].agg(lambda x: x.value_counts().index[0]), inplace=True)\n",
    "    df['g_lift'].fillna(df['g_lift'].agg(lambda x: x.value_counts().index[0]), inplace=True)\n",
    "    \n",
    "    df.drop(['date'], axis=1, inplace=True)\n",
    "    \n",
    "    return df"
   ]
  },
  {
   "cell_type": "markdown",
   "id": "0abc4b7b",
   "metadata": {},
   "source": [
    "**Даты в train и test не совпадают, видно, что данные были разделены именно по ним, можно их удалить**"
   ]
  },
  {
   "cell_type": "code",
   "execution_count": 75,
   "id": "99cb4103",
   "metadata": {},
   "outputs": [
    {
     "data": {
      "text/plain": [
       "array(['2011-1', '2011-10', '2011-11', '2011-12', '2011-2', '2011-3',\n",
       "       '2011-4', '2011-5', '2011-6', '2011-7', '2011-8', '2011-9',\n",
       "       '2012-1', '2012-10', '2012-11', '2012-12', '2012-2', '2012-3'],\n",
       "      dtype=object)"
      ]
     },
     "execution_count": 75,
     "metadata": {},
     "output_type": "execute_result"
    }
   ],
   "source": [
    "train['date'].unique()"
   ]
  },
  {
   "cell_type": "code",
   "execution_count": 76,
   "id": "d2673404",
   "metadata": {},
   "outputs": [
    {
     "data": {
      "text/plain": [
       "array(['2012-3', '2012-4', '2012-5', '2012-6', '2012-7', '2012-8',\n",
       "       '2012-9', '2013-1', '2013-10', '2013-11', '2013-12', '2013-2',\n",
       "       '2013-3', '2013-4', '2013-5', '2013-6', '2013-7', '2013-8',\n",
       "       '2013-9'], dtype=object)"
      ]
     },
     "execution_count": 76,
     "metadata": {},
     "output_type": "execute_result"
    }
   ],
   "source": [
    "test['date'].unique()"
   ]
  },
  {
   "cell_type": "code",
   "execution_count": 77,
   "id": "b642197a",
   "metadata": {},
   "outputs": [],
   "source": [
    "train = preprocessing(train)\n",
    "calculate_missing_values(train)"
   ]
  },
  {
   "cell_type": "code",
   "execution_count": 78,
   "id": "047aaf98",
   "metadata": {},
   "outputs": [],
   "source": [
    "test = preprocessing(test)\n",
    "calculate_missing_values(test)"
   ]
  },
  {
   "cell_type": "code",
   "execution_count": 79,
   "id": "06cc0cff",
   "metadata": {},
   "outputs": [
    {
     "data": {
      "text/html": [
       "<div>\n",
       "<style scoped>\n",
       "    .dataframe tbody tr th:only-of-type {\n",
       "        vertical-align: middle;\n",
       "    }\n",
       "\n",
       "    .dataframe tbody tr th {\n",
       "        vertical-align: top;\n",
       "    }\n",
       "\n",
       "    .dataframe thead th {\n",
       "        text-align: right;\n",
       "    }\n",
       "</style>\n",
       "<table border=\"1\" class=\"dataframe\">\n",
       "  <thead>\n",
       "    <tr style=\"text-align: right;\">\n",
       "      <th></th>\n",
       "      <th>street_id</th>\n",
       "      <th>build_tech</th>\n",
       "      <th>floor</th>\n",
       "      <th>area</th>\n",
       "      <th>rooms</th>\n",
       "      <th>balcon</th>\n",
       "      <th>metro_dist</th>\n",
       "      <th>g_lift</th>\n",
       "      <th>n_photos</th>\n",
       "      <th>kw1</th>\n",
       "      <th>...</th>\n",
       "      <th>kw5</th>\n",
       "      <th>kw6</th>\n",
       "      <th>kw7</th>\n",
       "      <th>kw8</th>\n",
       "      <th>kw9</th>\n",
       "      <th>kw10</th>\n",
       "      <th>kw11</th>\n",
       "      <th>kw12</th>\n",
       "      <th>kw13</th>\n",
       "      <th>price</th>\n",
       "    </tr>\n",
       "    <tr>\n",
       "      <th>id</th>\n",
       "      <th></th>\n",
       "      <th></th>\n",
       "      <th></th>\n",
       "      <th></th>\n",
       "      <th></th>\n",
       "      <th></th>\n",
       "      <th></th>\n",
       "      <th></th>\n",
       "      <th></th>\n",
       "      <th></th>\n",
       "      <th></th>\n",
       "      <th></th>\n",
       "      <th></th>\n",
       "      <th></th>\n",
       "      <th></th>\n",
       "      <th></th>\n",
       "      <th></th>\n",
       "      <th></th>\n",
       "      <th></th>\n",
       "      <th></th>\n",
       "      <th></th>\n",
       "    </tr>\n",
       "  </thead>\n",
       "  <tbody>\n",
       "    <tr>\n",
       "      <th>0</th>\n",
       "      <td>560</td>\n",
       "      <td>0.0</td>\n",
       "      <td>2</td>\n",
       "      <td>59</td>\n",
       "      <td>3</td>\n",
       "      <td>0</td>\n",
       "      <td>30.0</td>\n",
       "      <td>1.0</td>\n",
       "      <td>5</td>\n",
       "      <td>0</td>\n",
       "      <td>...</td>\n",
       "      <td>0</td>\n",
       "      <td>0</td>\n",
       "      <td>0</td>\n",
       "      <td>0</td>\n",
       "      <td>0</td>\n",
       "      <td>0</td>\n",
       "      <td>0</td>\n",
       "      <td>0</td>\n",
       "      <td>0</td>\n",
       "      <td>4510000</td>\n",
       "    </tr>\n",
       "    <tr>\n",
       "      <th>1</th>\n",
       "      <td>667</td>\n",
       "      <td>0.0</td>\n",
       "      <td>10</td>\n",
       "      <td>50</td>\n",
       "      <td>2</td>\n",
       "      <td>1</td>\n",
       "      <td>25.0</td>\n",
       "      <td>1.0</td>\n",
       "      <td>1</td>\n",
       "      <td>0</td>\n",
       "      <td>...</td>\n",
       "      <td>0</td>\n",
       "      <td>0</td>\n",
       "      <td>0</td>\n",
       "      <td>0</td>\n",
       "      <td>0</td>\n",
       "      <td>0</td>\n",
       "      <td>0</td>\n",
       "      <td>0</td>\n",
       "      <td>0</td>\n",
       "      <td>13231000</td>\n",
       "    </tr>\n",
       "    <tr>\n",
       "      <th>2</th>\n",
       "      <td>90</td>\n",
       "      <td>0.0</td>\n",
       "      <td>1</td>\n",
       "      <td>48</td>\n",
       "      <td>2</td>\n",
       "      <td>0</td>\n",
       "      <td>25.0</td>\n",
       "      <td>0.0</td>\n",
       "      <td>1</td>\n",
       "      <td>0</td>\n",
       "      <td>...</td>\n",
       "      <td>0</td>\n",
       "      <td>0</td>\n",
       "      <td>0</td>\n",
       "      <td>0</td>\n",
       "      <td>0</td>\n",
       "      <td>0</td>\n",
       "      <td>0</td>\n",
       "      <td>0</td>\n",
       "      <td>0</td>\n",
       "      <td>2008000</td>\n",
       "    </tr>\n",
       "    <tr>\n",
       "      <th>3</th>\n",
       "      <td>94</td>\n",
       "      <td>1.0</td>\n",
       "      <td>3</td>\n",
       "      <td>62</td>\n",
       "      <td>3</td>\n",
       "      <td>1</td>\n",
       "      <td>30.0</td>\n",
       "      <td>1.0</td>\n",
       "      <td>3</td>\n",
       "      <td>0</td>\n",
       "      <td>...</td>\n",
       "      <td>0</td>\n",
       "      <td>0</td>\n",
       "      <td>0</td>\n",
       "      <td>0</td>\n",
       "      <td>0</td>\n",
       "      <td>0</td>\n",
       "      <td>0</td>\n",
       "      <td>0</td>\n",
       "      <td>0</td>\n",
       "      <td>12680000</td>\n",
       "    </tr>\n",
       "    <tr>\n",
       "      <th>4</th>\n",
       "      <td>232</td>\n",
       "      <td>0.0</td>\n",
       "      <td>3</td>\n",
       "      <td>60</td>\n",
       "      <td>3</td>\n",
       "      <td>0</td>\n",
       "      <td>25.0</td>\n",
       "      <td>1.0</td>\n",
       "      <td>3</td>\n",
       "      <td>0</td>\n",
       "      <td>...</td>\n",
       "      <td>0</td>\n",
       "      <td>0</td>\n",
       "      <td>0</td>\n",
       "      <td>0</td>\n",
       "      <td>0</td>\n",
       "      <td>0</td>\n",
       "      <td>0</td>\n",
       "      <td>0</td>\n",
       "      <td>0</td>\n",
       "      <td>3335000</td>\n",
       "    </tr>\n",
       "  </tbody>\n",
       "</table>\n",
       "<p>5 rows × 23 columns</p>\n",
       "</div>"
      ],
      "text/plain": [
       "    street_id  build_tech  floor  area  rooms  balcon  metro_dist  g_lift  \\\n",
       "id                                                                          \n",
       "0         560         0.0      2    59      3       0        30.0     1.0   \n",
       "1         667         0.0     10    50      2       1        25.0     1.0   \n",
       "2          90         0.0      1    48      2       0        25.0     0.0   \n",
       "3          94         1.0      3    62      3       1        30.0     1.0   \n",
       "4         232         0.0      3    60      3       0        25.0     1.0   \n",
       "\n",
       "    n_photos  kw1  ...  kw5  kw6  kw7  kw8  kw9  kw10  kw11  kw12  kw13  \\\n",
       "id                 ...                                                    \n",
       "0          5    0  ...    0    0    0    0    0     0     0     0     0   \n",
       "1          1    0  ...    0    0    0    0    0     0     0     0     0   \n",
       "2          1    0  ...    0    0    0    0    0     0     0     0     0   \n",
       "3          3    0  ...    0    0    0    0    0     0     0     0     0   \n",
       "4          3    0  ...    0    0    0    0    0     0     0     0     0   \n",
       "\n",
       "       price  \n",
       "id            \n",
       "0    4510000  \n",
       "1   13231000  \n",
       "2    2008000  \n",
       "3   12680000  \n",
       "4    3335000  \n",
       "\n",
       "[5 rows x 23 columns]"
      ]
     },
     "execution_count": 79,
     "metadata": {},
     "output_type": "execute_result"
    }
   ],
   "source": [
    "train.head()"
   ]
  },
  {
   "cell_type": "markdown",
   "id": "ca05ba3b",
   "metadata": {},
   "source": [
    "**Подготовка данных к обучению и тестированию**"
   ]
  },
  {
   "cell_type": "code",
   "execution_count": 80,
   "id": "bba244a7",
   "metadata": {},
   "outputs": [],
   "source": [
    "y = train['price']\n",
    "X = train.drop(['price'], axis=1)\n",
    "X_train, X_test, y_train, y_test = train_test_split(X, y, train_size=0.8, random_state=13)"
   ]
  },
  {
   "cell_type": "markdown",
   "id": "606ae7d9",
   "metadata": {},
   "source": [
    "**Градиентный бустинг**"
   ]
  },
  {
   "cell_type": "code",
   "execution_count": 81,
   "id": "c1ae3c14",
   "metadata": {},
   "outputs": [
    {
     "data": {
      "application/vnd.jupyter.widget-view+json": {
       "model_id": "820b325cc3fd40b1ad00cf34ffbda7c6",
       "version_major": 2,
       "version_minor": 0
      },
      "text/plain": [
       "MetricVisualizer(layout=Layout(align_self='stretch', height='500px'))"
      ]
     },
     "metadata": {},
     "output_type": "display_data"
    },
    {
     "name": "stdout",
     "output_type": "stream",
     "text": [
      "0:\tloss: 1455327.6012050\tbest: 1455327.6012050 (0)\ttotal: 18.2s\tremaining: 4m 15s\n",
      "1:\tloss: 1474313.8205987\tbest: 1455327.6012050 (0)\ttotal: 36.3s\tremaining: 3m 56s\n",
      "2:\tloss: 1436126.4163874\tbest: 1436126.4163874 (2)\ttotal: 55s\tremaining: 3m 40s\n",
      "3:\tloss: 1406069.3441049\tbest: 1406069.3441049 (3)\ttotal: 1m 16s\tremaining: 3m 30s\n",
      "4:\tloss: 1416398.9601654\tbest: 1406069.3441049 (3)\ttotal: 1m 39s\tremaining: 3m 18s\n",
      "5:\tloss: 1410936.0342794\tbest: 1406069.3441049 (3)\ttotal: 2m 1s\tremaining: 3m 2s\n",
      "6:\tloss: 1412374.3300485\tbest: 1406069.3441049 (3)\ttotal: 2m 30s\tremaining: 2m 52s\n",
      "7:\tloss: 1417551.9161642\tbest: 1406069.3441049 (3)\ttotal: 2m 59s\tremaining: 2m 37s\n",
      "8:\tloss: 1424629.1688405\tbest: 1406069.3441049 (3)\ttotal: 3m 28s\tremaining: 2m 19s\n",
      "9:\tloss: 1468910.5488835\tbest: 1406069.3441049 (3)\ttotal: 4m 20s\tremaining: 2m 10s\n",
      "10:\tloss: 1466664.5024005\tbest: 1406069.3441049 (3)\ttotal: 5m 12s\tremaining: 1m 53s\n",
      "11:\tloss: 1493676.9982952\tbest: 1406069.3441049 (3)\ttotal: 6m 2s\tremaining: 1m 30s\n",
      "12:\tloss: 1543274.7585810\tbest: 1406069.3441049 (3)\ttotal: 7m 15s\tremaining: 1m 7s\n",
      "13:\tloss: 1527539.5667712\tbest: 1406069.3441049 (3)\ttotal: 8m 40s\tremaining: 37.2s\n",
      "14:\tloss: 1566798.8018804\tbest: 1406069.3441049 (3)\ttotal: 9m 36s\tremaining: 0us\n",
      "Estimating final quality...\n"
     ]
    }
   ],
   "source": [
    "boosting_model = CatBoostRegressor(iterations=3000,\n",
    "                           loss_function='MAE',  \n",
    "                           eval_metric='MAE',  \n",
    "                           logging_level='Silent',\n",
    "                           early_stopping_rounds=1000)\n",
    "grid = {\n",
    "    'learning_rate': [0.15, 0.12, 0.25],\n",
    "    'depth': [4, 6, 8, 10, 12]\n",
    "}\n",
    "grid_search_result = boosting_model.grid_search(grid, \n",
    "                                               X=X_train, \n",
    "                                               y=y_train,\n",
    "                                               cv=5,\n",
    "                                               train_size=0.8,\n",
    "                                               plot=True)"
   ]
  },
  {
   "cell_type": "code",
   "execution_count": 82,
   "id": "6bf9fc2b",
   "metadata": {},
   "outputs": [
    {
     "name": "stdout",
     "output_type": "stream",
     "text": [
      "Best model parameters: {'depth': 6, 'learning_rate': 0.15}\n",
      "Model test score: 1369819\n",
      "Competition score: 7.300231686292843e-07\n"
     ]
    }
   ],
   "source": [
    "print(\"Best model parameters: \" + str(grid_search_result['params'])) \n",
    "print(\"Model test score: \" + str(round(mean_absolute_error(boosting_model.predict(X_test), y_test))))\n",
    "print(\"Competition score: \" + str(1 / (1 + mean_absolute_error(boosting_model.predict(X_test), y_test))))"
   ]
  },
  {
   "cell_type": "code",
   "execution_count": 92,
   "id": "b37f255e",
   "metadata": {},
   "outputs": [],
   "source": [
    "#1374977"
   ]
  },
  {
   "cell_type": "code",
   "execution_count": 95,
   "id": "5c64b9b5",
   "metadata": {},
   "outputs": [
    {
     "data": {
      "text/plain": [
       "<catboost.core.CatBoostRegressor at 0x1d4063d7d00>"
      ]
     },
     "execution_count": 95,
     "metadata": {},
     "output_type": "execute_result"
    }
   ],
   "source": [
    "best_model = CatBoostRegressor(iterations=3000,\n",
    "                               loss_function='MAE',  \n",
    "                               eval_metric='MAE',  \n",
    "                               logging_level='Silent',\n",
    "                               depth=6,\n",
    "                               learning_rate=0.15,\n",
    "                               early_stopping_rounds=1000)\n",
    "best_model.fit(X, y)"
   ]
  },
  {
   "cell_type": "markdown",
   "id": "2aca68cd",
   "metadata": {},
   "source": [
    "**Дерево решений**"
   ]
  },
  {
   "cell_type": "code",
   "execution_count": 39,
   "id": "61583a92",
   "metadata": {},
   "outputs": [
    {
     "data": {
      "text/plain": [
       "DecisionTreeRegressor(max_depth=10)"
      ]
     },
     "execution_count": 39,
     "metadata": {},
     "output_type": "execute_result"
    }
   ],
   "source": [
    "tree_model = DecisionTreeRegressor(criterion=\"squared_error\", max_depth=10)\n",
    "tree_model.fit(X_train, y_train)"
   ]
  },
  {
   "cell_type": "code",
   "execution_count": 40,
   "id": "b8febe37",
   "metadata": {},
   "outputs": [
    {
     "name": "stdout",
     "output_type": "stream",
     "text": [
      "Model test score: 1819201\n"
     ]
    }
   ],
   "source": [
    "print(\"Model test score: \" + str(round(mean_absolute_error(tree_model.predict(X_test), y_test))))"
   ]
  },
  {
   "cell_type": "markdown",
   "id": "381dec36",
   "metadata": {},
   "source": [
    "**Случайный лес**"
   ]
  },
  {
   "cell_type": "code",
   "execution_count": 105,
   "id": "c00ffcbc",
   "metadata": {},
   "outputs": [
    {
     "data": {
      "text/plain": [
       "GridSearchCV(cv=5, estimator=RandomForestRegressor(), n_jobs=-1,\n",
       "             param_grid={'max_depth': [10, 15, 20], 'n_estimators': [3000]})"
      ]
     },
     "execution_count": 105,
     "metadata": {},
     "output_type": "execute_result"
    }
   ],
   "source": [
    "parameters = {'n_estimators': [3000],\n",
    "             'max_depth': [10, 15, 20]}\n",
    "clf = RandomForestRegressor(criterion=\"squared_error\")\n",
    "gs_clf = GridSearchCV(clf, parameters, cv=5, n_jobs=-1)\n",
    "gs_clf.fit(X_train, y_train)"
   ]
  },
  {
   "cell_type": "code",
   "execution_count": 106,
   "id": "be20669c",
   "metadata": {},
   "outputs": [
    {
     "name": "stdout",
     "output_type": "stream",
     "text": [
      "Best model parameters: {'max_depth': 20, 'n_estimators': 3000}\n",
      "Model test score: 1618756\n",
      "Competition score: 6.177579311737805e-07\n"
     ]
    }
   ],
   "source": [
    "print(\"Best model parameters: \" + str(gs_clf.best_params_)) \n",
    "print(\"Model test score: \" + str(round(mean_absolute_error(gs_clf.best_estimator_.predict(X_test), y_test))))\n",
    "print(\"Competition score: \" + str(1 / (1 + mean_absolute_error(gs_clf.best_estimator_.predict(X_test), y_test))))"
   ]
  },
  {
   "cell_type": "code",
   "execution_count": null,
   "id": "49f47b18",
   "metadata": {},
   "outputs": [],
   "source": [
    "#'max_depth': 30, 'n_estimators': 1500\n",
    "#1575394"
   ]
  },
  {
   "cell_type": "code",
   "execution_count": 100,
   "id": "64ddb7c9",
   "metadata": {},
   "outputs": [
    {
     "data": {
      "text/plain": [
       "RandomForestRegressor(max_depth=30, n_estimators=1500)"
      ]
     },
     "execution_count": 100,
     "metadata": {},
     "output_type": "execute_result"
    }
   ],
   "source": [
    "best_rf_model = RandomForestRegressor(criterion=\"squared_error\", max_depth=30, n_estimators=1500)\n",
    "best_rf_model.fit(X, y)"
   ]
  },
  {
   "cell_type": "markdown",
   "id": "889905cf",
   "metadata": {},
   "source": [
    "**Обработка test и предсказание результатов**"
   ]
  },
  {
   "cell_type": "code",
   "execution_count": 101,
   "id": "153df219",
   "metadata": {},
   "outputs": [],
   "source": [
    "y_pred = best_rf_model.predict(test)"
   ]
  },
  {
   "cell_type": "code",
   "execution_count": 102,
   "id": "62217158",
   "metadata": {},
   "outputs": [
    {
     "data": {
      "text/html": [
       "<div>\n",
       "<style scoped>\n",
       "    .dataframe tbody tr th:only-of-type {\n",
       "        vertical-align: middle;\n",
       "    }\n",
       "\n",
       "    .dataframe tbody tr th {\n",
       "        vertical-align: top;\n",
       "    }\n",
       "\n",
       "    .dataframe thead th {\n",
       "        text-align: right;\n",
       "    }\n",
       "</style>\n",
       "<table border=\"1\" class=\"dataframe\">\n",
       "  <thead>\n",
       "    <tr style=\"text-align: right;\">\n",
       "      <th></th>\n",
       "      <th>id</th>\n",
       "      <th>price</th>\n",
       "    </tr>\n",
       "  </thead>\n",
       "  <tbody>\n",
       "    <tr>\n",
       "      <th>0</th>\n",
       "      <td>100000</td>\n",
       "      <td>5.223500e+06</td>\n",
       "    </tr>\n",
       "    <tr>\n",
       "      <th>1</th>\n",
       "      <td>100001</td>\n",
       "      <td>5.315222e+06</td>\n",
       "    </tr>\n",
       "    <tr>\n",
       "      <th>2</th>\n",
       "      <td>100002</td>\n",
       "      <td>2.123831e+06</td>\n",
       "    </tr>\n",
       "    <tr>\n",
       "      <th>3</th>\n",
       "      <td>100003</td>\n",
       "      <td>4.431782e+06</td>\n",
       "    </tr>\n",
       "    <tr>\n",
       "      <th>4</th>\n",
       "      <td>100004</td>\n",
       "      <td>6.456958e+06</td>\n",
       "    </tr>\n",
       "  </tbody>\n",
       "</table>\n",
       "</div>"
      ],
      "text/plain": [
       "       id         price\n",
       "0  100000  5.223500e+06\n",
       "1  100001  5.315222e+06\n",
       "2  100002  2.123831e+06\n",
       "3  100003  4.431782e+06\n",
       "4  100004  6.456958e+06"
      ]
     },
     "execution_count": 102,
     "metadata": {},
     "output_type": "execute_result"
    }
   ],
   "source": [
    "submission = pd.DataFrame({'id':test.index, 'price':y_pred})\n",
    "submission.to_csv('submission.csv', index=False)\n",
    "submission.head()"
   ]
  },
  {
   "cell_type": "code",
   "execution_count": null,
   "id": "b48600ca",
   "metadata": {},
   "outputs": [],
   "source": []
  }
 ],
 "metadata": {
  "kernelspec": {
   "display_name": "Python 3 (ipykernel)",
   "language": "python",
   "name": "python3"
  },
  "language_info": {
   "codemirror_mode": {
    "name": "ipython",
    "version": 3
   },
   "file_extension": ".py",
   "mimetype": "text/x-python",
   "name": "python",
   "nbconvert_exporter": "python",
   "pygments_lexer": "ipython3",
   "version": "3.9.13"
  }
 },
 "nbformat": 4,
 "nbformat_minor": 5
}
