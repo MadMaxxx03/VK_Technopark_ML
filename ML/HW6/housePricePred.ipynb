{
 "cells": [
  {
   "cell_type": "code",
   "execution_count": 187,
   "id": "7ce51e70",
   "metadata": {},
   "outputs": [],
   "source": [
    "import pandas as pd\n",
    "import numpy as np\n",
    "from sklearn.model_selection import train_test_split\n",
    "from sklearn.metrics import mean_absolute_error\n",
    "from sklearn.model_selection import GridSearchCV\n",
    "from catboost import CatBoostRegressor\n",
    "from sklearn.ensemble import RandomForestRegressor\n",
    "from sklearn.tree import DecisionTreeRegressor\n",
    "import shap"
   ]
  },
  {
   "cell_type": "code",
   "execution_count": 188,
   "id": "6aa3de35",
   "metadata": {},
   "outputs": [
    {
     "name": "stdout",
     "output_type": "stream",
     "text": [
      "(100000, 24)\n"
     ]
    },
    {
     "data": {
      "text/html": [
       "<div>\n",
       "<style scoped>\n",
       "    .dataframe tbody tr th:only-of-type {\n",
       "        vertical-align: middle;\n",
       "    }\n",
       "\n",
       "    .dataframe tbody tr th {\n",
       "        vertical-align: top;\n",
       "    }\n",
       "\n",
       "    .dataframe thead th {\n",
       "        text-align: right;\n",
       "    }\n",
       "</style>\n",
       "<table border=\"1\" class=\"dataframe\">\n",
       "  <thead>\n",
       "    <tr style=\"text-align: right;\">\n",
       "      <th></th>\n",
       "      <th>date</th>\n",
       "      <th>street_id</th>\n",
       "      <th>build_tech</th>\n",
       "      <th>floor</th>\n",
       "      <th>area</th>\n",
       "      <th>rooms</th>\n",
       "      <th>balcon</th>\n",
       "      <th>metro_dist</th>\n",
       "      <th>g_lift</th>\n",
       "      <th>n_photos</th>\n",
       "      <th>...</th>\n",
       "      <th>kw5</th>\n",
       "      <th>kw6</th>\n",
       "      <th>kw7</th>\n",
       "      <th>kw8</th>\n",
       "      <th>kw9</th>\n",
       "      <th>kw10</th>\n",
       "      <th>kw11</th>\n",
       "      <th>kw12</th>\n",
       "      <th>kw13</th>\n",
       "      <th>price</th>\n",
       "    </tr>\n",
       "    <tr>\n",
       "      <th>id</th>\n",
       "      <th></th>\n",
       "      <th></th>\n",
       "      <th></th>\n",
       "      <th></th>\n",
       "      <th></th>\n",
       "      <th></th>\n",
       "      <th></th>\n",
       "      <th></th>\n",
       "      <th></th>\n",
       "      <th></th>\n",
       "      <th></th>\n",
       "      <th></th>\n",
       "      <th></th>\n",
       "      <th></th>\n",
       "      <th></th>\n",
       "      <th></th>\n",
       "      <th></th>\n",
       "      <th></th>\n",
       "      <th></th>\n",
       "      <th></th>\n",
       "      <th></th>\n",
       "    </tr>\n",
       "  </thead>\n",
       "  <tbody>\n",
       "    <tr>\n",
       "      <th>0</th>\n",
       "      <td>2011-1</td>\n",
       "      <td>560</td>\n",
       "      <td>NaN</td>\n",
       "      <td>2</td>\n",
       "      <td>59</td>\n",
       "      <td>3</td>\n",
       "      <td>0</td>\n",
       "      <td>30.0</td>\n",
       "      <td>1.0</td>\n",
       "      <td>5</td>\n",
       "      <td>...</td>\n",
       "      <td>0</td>\n",
       "      <td>0</td>\n",
       "      <td>0</td>\n",
       "      <td>0</td>\n",
       "      <td>0</td>\n",
       "      <td>0</td>\n",
       "      <td>0</td>\n",
       "      <td>0</td>\n",
       "      <td>0</td>\n",
       "      <td>4510000</td>\n",
       "    </tr>\n",
       "    <tr>\n",
       "      <th>1</th>\n",
       "      <td>2011-1</td>\n",
       "      <td>667</td>\n",
       "      <td>NaN</td>\n",
       "      <td>10</td>\n",
       "      <td>50</td>\n",
       "      <td>2</td>\n",
       "      <td>1</td>\n",
       "      <td>25.0</td>\n",
       "      <td>NaN</td>\n",
       "      <td>1</td>\n",
       "      <td>...</td>\n",
       "      <td>0</td>\n",
       "      <td>0</td>\n",
       "      <td>0</td>\n",
       "      <td>0</td>\n",
       "      <td>0</td>\n",
       "      <td>0</td>\n",
       "      <td>0</td>\n",
       "      <td>0</td>\n",
       "      <td>0</td>\n",
       "      <td>13231000</td>\n",
       "    </tr>\n",
       "  </tbody>\n",
       "</table>\n",
       "<p>2 rows × 24 columns</p>\n",
       "</div>"
      ],
      "text/plain": [
       "      date  street_id  build_tech  floor  area  rooms  balcon  metro_dist  \\\n",
       "id                                                                          \n",
       "0   2011-1        560         NaN      2    59      3       0        30.0   \n",
       "1   2011-1        667         NaN     10    50      2       1        25.0   \n",
       "\n",
       "    g_lift  n_photos  ...  kw5  kw6  kw7  kw8  kw9  kw10  kw11  kw12  kw13  \\\n",
       "id                    ...                                                    \n",
       "0      1.0         5  ...    0    0    0    0    0     0     0     0     0   \n",
       "1      NaN         1  ...    0    0    0    0    0     0     0     0     0   \n",
       "\n",
       "       price  \n",
       "id            \n",
       "0    4510000  \n",
       "1   13231000  \n",
       "\n",
       "[2 rows x 24 columns]"
      ]
     },
     "execution_count": 188,
     "metadata": {},
     "output_type": "execute_result"
    }
   ],
   "source": [
    "train = pd.read_csv(\"train.csv\", index_col='id')\n",
    "print(train.shape)\n",
    "train.head(2)"
   ]
  },
  {
   "cell_type": "code",
   "execution_count": 189,
   "id": "d627a07f",
   "metadata": {},
   "outputs": [
    {
     "name": "stdout",
     "output_type": "stream",
     "text": [
      "(100000, 23)\n"
     ]
    },
    {
     "data": {
      "text/html": [
       "<div>\n",
       "<style scoped>\n",
       "    .dataframe tbody tr th:only-of-type {\n",
       "        vertical-align: middle;\n",
       "    }\n",
       "\n",
       "    .dataframe tbody tr th {\n",
       "        vertical-align: top;\n",
       "    }\n",
       "\n",
       "    .dataframe thead th {\n",
       "        text-align: right;\n",
       "    }\n",
       "</style>\n",
       "<table border=\"1\" class=\"dataframe\">\n",
       "  <thead>\n",
       "    <tr style=\"text-align: right;\">\n",
       "      <th></th>\n",
       "      <th>date</th>\n",
       "      <th>street_id</th>\n",
       "      <th>build_tech</th>\n",
       "      <th>floor</th>\n",
       "      <th>area</th>\n",
       "      <th>rooms</th>\n",
       "      <th>balcon</th>\n",
       "      <th>metro_dist</th>\n",
       "      <th>g_lift</th>\n",
       "      <th>n_photos</th>\n",
       "      <th>...</th>\n",
       "      <th>kw4</th>\n",
       "      <th>kw5</th>\n",
       "      <th>kw6</th>\n",
       "      <th>kw7</th>\n",
       "      <th>kw8</th>\n",
       "      <th>kw9</th>\n",
       "      <th>kw10</th>\n",
       "      <th>kw11</th>\n",
       "      <th>kw12</th>\n",
       "      <th>kw13</th>\n",
       "    </tr>\n",
       "    <tr>\n",
       "      <th>id</th>\n",
       "      <th></th>\n",
       "      <th></th>\n",
       "      <th></th>\n",
       "      <th></th>\n",
       "      <th></th>\n",
       "      <th></th>\n",
       "      <th></th>\n",
       "      <th></th>\n",
       "      <th></th>\n",
       "      <th></th>\n",
       "      <th></th>\n",
       "      <th></th>\n",
       "      <th></th>\n",
       "      <th></th>\n",
       "      <th></th>\n",
       "      <th></th>\n",
       "      <th></th>\n",
       "      <th></th>\n",
       "      <th></th>\n",
       "      <th></th>\n",
       "      <th></th>\n",
       "    </tr>\n",
       "  </thead>\n",
       "  <tbody>\n",
       "    <tr>\n",
       "      <th>100000</th>\n",
       "      <td>2012-3</td>\n",
       "      <td>459</td>\n",
       "      <td>NaN</td>\n",
       "      <td>1</td>\n",
       "      <td>60</td>\n",
       "      <td>3</td>\n",
       "      <td>1</td>\n",
       "      <td>30.0</td>\n",
       "      <td>0.0</td>\n",
       "      <td>4</td>\n",
       "      <td>...</td>\n",
       "      <td>0</td>\n",
       "      <td>0</td>\n",
       "      <td>0</td>\n",
       "      <td>0</td>\n",
       "      <td>0</td>\n",
       "      <td>0</td>\n",
       "      <td>0</td>\n",
       "      <td>0</td>\n",
       "      <td>0</td>\n",
       "      <td>0</td>\n",
       "    </tr>\n",
       "    <tr>\n",
       "      <th>100001</th>\n",
       "      <td>2012-3</td>\n",
       "      <td>344</td>\n",
       "      <td>1.0</td>\n",
       "      <td>10</td>\n",
       "      <td>52</td>\n",
       "      <td>2</td>\n",
       "      <td>1</td>\n",
       "      <td>NaN</td>\n",
       "      <td>NaN</td>\n",
       "      <td>4</td>\n",
       "      <td>...</td>\n",
       "      <td>0</td>\n",
       "      <td>0</td>\n",
       "      <td>0</td>\n",
       "      <td>0</td>\n",
       "      <td>0</td>\n",
       "      <td>0</td>\n",
       "      <td>0</td>\n",
       "      <td>0</td>\n",
       "      <td>0</td>\n",
       "      <td>0</td>\n",
       "    </tr>\n",
       "  </tbody>\n",
       "</table>\n",
       "<p>2 rows × 23 columns</p>\n",
       "</div>"
      ],
      "text/plain": [
       "          date  street_id  build_tech  floor  area  rooms  balcon  metro_dist  \\\n",
       "id                                                                              \n",
       "100000  2012-3        459         NaN      1    60      3       1        30.0   \n",
       "100001  2012-3        344         1.0     10    52      2       1         NaN   \n",
       "\n",
       "        g_lift  n_photos  ...  kw4  kw5  kw6  kw7  kw8  kw9  kw10  kw11  kw12  \\\n",
       "id                        ...                                                   \n",
       "100000     0.0         4  ...    0    0    0    0    0    0     0     0     0   \n",
       "100001     NaN         4  ...    0    0    0    0    0    0     0     0     0   \n",
       "\n",
       "        kw13  \n",
       "id            \n",
       "100000     0  \n",
       "100001     0  \n",
       "\n",
       "[2 rows x 23 columns]"
      ]
     },
     "execution_count": 189,
     "metadata": {},
     "output_type": "execute_result"
    }
   ],
   "source": [
    "test = pd.read_csv(\"test.csv\", index_col='id')\n",
    "print(test.shape)\n",
    "test.head(2)"
   ]
  },
  {
   "cell_type": "markdown",
   "id": "0e06b9c3",
   "metadata": {},
   "source": [
    "**Поиск и заполнение пропущенных значений**"
   ]
  },
  {
   "cell_type": "code",
   "execution_count": 190,
   "id": "69627d89",
   "metadata": {},
   "outputs": [
    {
     "name": "stdout",
     "output_type": "stream",
     "text": [
      "Столбец 'build_tech' имеет 29.73% пропущенных значений, тип данных: 'float64'\n",
      "Столбец 'metro_dist' имеет 4.90% пропущенных значений, тип данных: 'float64'\n",
      "Столбец 'g_lift' имеет 29.99% пропущенных значений, тип данных: 'float64'\n"
     ]
    }
   ],
   "source": [
    "def calculate_missing_values(df):\n",
    "    total_rows = df.shape[0]\n",
    "    for column in df.columns:\n",
    "        missing_values = df[column].isnull().sum()\n",
    "        if missing_values > 0:\n",
    "            missing_percentage = (missing_values / total_rows) * 100\n",
    "            print(f\"Столбец '{column}' имеет {missing_percentage:.2f}% пропущенных значений, тип данных: '{df[column].dtype}'\")\n",
    "\n",
    "calculate_missing_values(train)"
   ]
  },
  {
   "cell_type": "code",
   "execution_count": 191,
   "id": "a3d971a0",
   "metadata": {},
   "outputs": [],
   "source": [
    "#Округление значения до ближайшего значения из unique_metro_dists\n",
    "def round_to_nearest(value, unique_metro_dists):\n",
    "    nearest_value = min(unique_metro_dists, key=lambda x: abs(x - value))\n",
    "    return nearest_value"
   ]
  },
  {
   "cell_type": "code",
   "execution_count": 192,
   "id": "eae79126",
   "metadata": {},
   "outputs": [],
   "source": [
    "def preprocessing(df):\n",
    "    #Заполнение средним по street_id\n",
    "    unique_metro_dists = df['metro_dist'].unique()\n",
    "    df['metro_dist'].fillna(df.groupby('street_id')['metro_dist'].transform('mean'), inplace=True)\n",
    "    df['metro_dist'].fillna(df['metro_dist'].mean(), inplace=True)\n",
    "    df['metro_dist'] = df['metro_dist'].apply(round_to_nearest, args=(unique_metro_dists,))\n",
    "\n",
    "    df['build_tech'].fillna(df.groupby('street_id')['build_tech'].agg(lambda x: x.value_counts().index[0]), inplace=True)\n",
    "    df['build_tech'].fillna(df['build_tech'].agg(lambda x: x.value_counts().index[0]), inplace=True)\n",
    "\n",
    "    df['g_lift'].fillna(df.groupby('street_id')['g_lift'].agg(lambda x: x.value_counts().index[0]), inplace=True)\n",
    "    df['g_lift'].fillna(df['g_lift'].agg(lambda x: x.value_counts().index[0]), inplace=True)\n",
    "\n",
    "    datetime = pd.DatetimeIndex(df['date'])\n",
    "    df['date'] = (datetime.year - 2011) * 12 + datetime.month\n",
    "    \n",
    "    #df['area'] = df['area'].apply(lambda x : x**0.5)\n",
    "    #df['metro_dist'] = df['metro_dist'].apply(lambda x : x**0.5)\n",
    "    \n",
    "    #df = pd.get_dummies(df, columns=['street_id'], drop_first=True)\n",
    "    \n",
    "    #df.drop(['date'], axis=1, inplace=True)\n",
    "    \n",
    "    #df.drop(['kw4', 'kw5', 'kw6', 'kw7', 'kw8', 'kw9', 'kw10', 'kw12', 'kw13', 'kw11', 'kw3'], axis=1, inplace=True)\n",
    "    \n",
    "    return df"
   ]
  },
  {
   "cell_type": "markdown",
   "id": "0abc4b7b",
   "metadata": {},
   "source": [
    "**Даты в train и test не совпадают, видно, что данные были разделены именно по ним, можно их удалить**"
   ]
  },
  {
   "cell_type": "code",
   "execution_count": 193,
   "id": "b642197a",
   "metadata": {},
   "outputs": [],
   "source": [
    "train = preprocessing(train)\n",
    "calculate_missing_values(train)"
   ]
  },
  {
   "cell_type": "code",
   "execution_count": 194,
   "id": "047aaf98",
   "metadata": {},
   "outputs": [],
   "source": [
    "test = preprocessing(test)\n",
    "calculate_missing_values(test)"
   ]
  },
  {
   "cell_type": "code",
   "execution_count": 195,
   "id": "99cb4103",
   "metadata": {},
   "outputs": [
    {
     "name": "stdout",
     "output_type": "stream",
     "text": [
      "[ 1 10 11 12  2  3  4  5  6  7  8  9 13 22 23 24 14 15]\n",
      "[15 16 17 18 19 20 21 25 34 35 36 26 27 28 29 30 31 32 33]\n"
     ]
    }
   ],
   "source": [
    "print(train['date'].unique())\n",
    "print(test['date'].unique())"
   ]
  },
  {
   "cell_type": "code",
   "execution_count": 196,
   "id": "9199bb4f",
   "metadata": {},
   "outputs": [
    {
     "name": "stdout",
     "output_type": "stream",
     "text": [
      "train['kw1'].unique():\n",
      "[0 1]\n",
      "train['kw2'].unique():\n",
      "[1 0]\n",
      "train['kw3'].unique():\n",
      "[0 1]\n",
      "train['kw4'].unique():\n",
      "[0 1]\n",
      "train['kw5'].unique():\n",
      "[0 1]\n",
      "train['kw6'].unique():\n",
      "[0 1]\n",
      "train['kw7'].unique():\n",
      "[0 1]\n",
      "train['kw8'].unique():\n",
      "[0 1]\n",
      "train['kw9'].unique():\n",
      "[0 1]\n",
      "train['kw10'].unique():\n",
      "[0 1]\n",
      "train['kw11'].unique():\n",
      "[0 1]\n",
      "train['kw12'].unique():\n",
      "[0 1]\n",
      "train['kw13'].unique():\n",
      "[0 1]\n"
     ]
    }
   ],
   "source": [
    "for i in range(1, 14):\n",
    "    print(f\"train['kw{i}'].unique():\")\n",
    "    print(train[f'kw{i}'].unique())"
   ]
  },
  {
   "cell_type": "markdown",
   "id": "ca05ba3b",
   "metadata": {},
   "source": [
    "**Подготовка данных к обучению и тестированию**"
   ]
  },
  {
   "cell_type": "code",
   "execution_count": 197,
   "id": "0b5a6ad6",
   "metadata": {},
   "outputs": [
    {
     "data": {
      "text/html": [
       "<div>\n",
       "<style scoped>\n",
       "    .dataframe tbody tr th:only-of-type {\n",
       "        vertical-align: middle;\n",
       "    }\n",
       "\n",
       "    .dataframe tbody tr th {\n",
       "        vertical-align: top;\n",
       "    }\n",
       "\n",
       "    .dataframe thead th {\n",
       "        text-align: right;\n",
       "    }\n",
       "</style>\n",
       "<table border=\"1\" class=\"dataframe\">\n",
       "  <thead>\n",
       "    <tr style=\"text-align: right;\">\n",
       "      <th></th>\n",
       "      <th>date</th>\n",
       "      <th>street_id</th>\n",
       "      <th>build_tech</th>\n",
       "      <th>floor</th>\n",
       "      <th>area</th>\n",
       "      <th>rooms</th>\n",
       "      <th>balcon</th>\n",
       "      <th>metro_dist</th>\n",
       "      <th>g_lift</th>\n",
       "      <th>n_photos</th>\n",
       "      <th>...</th>\n",
       "      <th>kw4</th>\n",
       "      <th>kw5</th>\n",
       "      <th>kw6</th>\n",
       "      <th>kw7</th>\n",
       "      <th>kw8</th>\n",
       "      <th>kw9</th>\n",
       "      <th>kw10</th>\n",
       "      <th>kw11</th>\n",
       "      <th>kw12</th>\n",
       "      <th>kw13</th>\n",
       "    </tr>\n",
       "    <tr>\n",
       "      <th>id</th>\n",
       "      <th></th>\n",
       "      <th></th>\n",
       "      <th></th>\n",
       "      <th></th>\n",
       "      <th></th>\n",
       "      <th></th>\n",
       "      <th></th>\n",
       "      <th></th>\n",
       "      <th></th>\n",
       "      <th></th>\n",
       "      <th></th>\n",
       "      <th></th>\n",
       "      <th></th>\n",
       "      <th></th>\n",
       "      <th></th>\n",
       "      <th></th>\n",
       "      <th></th>\n",
       "      <th></th>\n",
       "      <th></th>\n",
       "      <th></th>\n",
       "      <th></th>\n",
       "    </tr>\n",
       "  </thead>\n",
       "  <tbody>\n",
       "    <tr>\n",
       "      <th>100000</th>\n",
       "      <td>15</td>\n",
       "      <td>459</td>\n",
       "      <td>0.0</td>\n",
       "      <td>1</td>\n",
       "      <td>60</td>\n",
       "      <td>3</td>\n",
       "      <td>1</td>\n",
       "      <td>30.0</td>\n",
       "      <td>0.0</td>\n",
       "      <td>4</td>\n",
       "      <td>...</td>\n",
       "      <td>0</td>\n",
       "      <td>0</td>\n",
       "      <td>0</td>\n",
       "      <td>0</td>\n",
       "      <td>0</td>\n",
       "      <td>0</td>\n",
       "      <td>0</td>\n",
       "      <td>0</td>\n",
       "      <td>0</td>\n",
       "      <td>0</td>\n",
       "    </tr>\n",
       "    <tr>\n",
       "      <th>100001</th>\n",
       "      <td>15</td>\n",
       "      <td>344</td>\n",
       "      <td>1.0</td>\n",
       "      <td>10</td>\n",
       "      <td>52</td>\n",
       "      <td>2</td>\n",
       "      <td>1</td>\n",
       "      <td>30.0</td>\n",
       "      <td>0.0</td>\n",
       "      <td>4</td>\n",
       "      <td>...</td>\n",
       "      <td>0</td>\n",
       "      <td>0</td>\n",
       "      <td>0</td>\n",
       "      <td>0</td>\n",
       "      <td>0</td>\n",
       "      <td>0</td>\n",
       "      <td>0</td>\n",
       "      <td>0</td>\n",
       "      <td>0</td>\n",
       "      <td>0</td>\n",
       "    </tr>\n",
       "    <tr>\n",
       "      <th>100002</th>\n",
       "      <td>15</td>\n",
       "      <td>585</td>\n",
       "      <td>0.0</td>\n",
       "      <td>4</td>\n",
       "      <td>54</td>\n",
       "      <td>3</td>\n",
       "      <td>0</td>\n",
       "      <td>30.0</td>\n",
       "      <td>0.0</td>\n",
       "      <td>0</td>\n",
       "      <td>...</td>\n",
       "      <td>0</td>\n",
       "      <td>0</td>\n",
       "      <td>0</td>\n",
       "      <td>0</td>\n",
       "      <td>0</td>\n",
       "      <td>0</td>\n",
       "      <td>0</td>\n",
       "      <td>0</td>\n",
       "      <td>0</td>\n",
       "      <td>0</td>\n",
       "    </tr>\n",
       "  </tbody>\n",
       "</table>\n",
       "<p>3 rows × 23 columns</p>\n",
       "</div>"
      ],
      "text/plain": [
       "        date  street_id  build_tech  floor  area  rooms  balcon  metro_dist  \\\n",
       "id                                                                            \n",
       "100000    15        459         0.0      1    60      3       1        30.0   \n",
       "100001    15        344         1.0     10    52      2       1        30.0   \n",
       "100002    15        585         0.0      4    54      3       0        30.0   \n",
       "\n",
       "        g_lift  n_photos  ...  kw4  kw5  kw6  kw7  kw8  kw9  kw10  kw11  kw12  \\\n",
       "id                        ...                                                   \n",
       "100000     0.0         4  ...    0    0    0    0    0    0     0     0     0   \n",
       "100001     0.0         4  ...    0    0    0    0    0    0     0     0     0   \n",
       "100002     0.0         0  ...    0    0    0    0    0    0     0     0     0   \n",
       "\n",
       "        kw13  \n",
       "id            \n",
       "100000     0  \n",
       "100001     0  \n",
       "100002     0  \n",
       "\n",
       "[3 rows x 23 columns]"
      ]
     },
     "execution_count": 197,
     "metadata": {},
     "output_type": "execute_result"
    }
   ],
   "source": [
    "test.head(3)"
   ]
  },
  {
   "cell_type": "code",
   "execution_count": 198,
   "id": "bba244a7",
   "metadata": {},
   "outputs": [],
   "source": [
    "y = train['price']\n",
    "X = train.drop(['price'], axis=1)\n",
    "X_train, X_test, y_train, y_test = train_test_split(X, y, train_size=0.8, random_state=13)"
   ]
  },
  {
   "cell_type": "markdown",
   "id": "606ae7d9",
   "metadata": {},
   "source": [
    "**Градиентный бустинг**"
   ]
  },
  {
   "cell_type": "code",
   "execution_count": 199,
   "id": "d2ad5eb1",
   "metadata": {},
   "outputs": [],
   "source": [
    "categorical_features = ['street_id', 'rooms', 'balcon'\n",
    "#                        , 'build_tech', 'g_lift'\n",
    "#                        , 'kw1', 'kw2', 'kw3', 'kw4', 'kw5', 'kw6', 'kw7', 'kw8', 'kw9', 'kw10', 'kw11', 'kw12', 'kw13'\n",
    "]"
   ]
  },
  {
   "cell_type": "code",
   "execution_count": 17,
   "id": "c1ae3c14",
   "metadata": {},
   "outputs": [
    {
     "data": {
      "application/vnd.jupyter.widget-view+json": {
       "model_id": "70f00fa907dc4e78843825db3ba65588",
       "version_major": 2,
       "version_minor": 0
      },
      "text/plain": [
       "MetricVisualizer(layout=Layout(align_self='stretch', height='500px'))"
      ]
     },
     "metadata": {},
     "output_type": "display_data"
    },
    {
     "name": "stdout",
     "output_type": "stream",
     "text": [
      "0:\tloss: 652474.7558146\tbest: 652474.7558146 (0)\ttotal: 1m 42s\tremaining: 23m 49s\n",
      "1:\tloss: 658484.2946227\tbest: 652474.7558146 (0)\ttotal: 3m 21s\tremaining: 21m 50s\n",
      "2:\tloss: 658661.7161053\tbest: 652474.7558146 (0)\ttotal: 5m 1s\tremaining: 20m 5s\n",
      "3:\tloss: 657445.6740063\tbest: 652474.7558146 (0)\ttotal: 6m 41s\tremaining: 18m 24s\n",
      "4:\tloss: 657652.4636899\tbest: 652474.7558146 (0)\ttotal: 8m 21s\tremaining: 16m 43s\n",
      "5:\tloss: 649998.0445636\tbest: 649998.0445636 (5)\ttotal: 10m 20s\tremaining: 15m 30s\n",
      "6:\tloss: 648681.5255043\tbest: 648681.5255043 (6)\ttotal: 12m 23s\tremaining: 14m 9s\n",
      "7:\tloss: 649354.2423178\tbest: 648681.5255043 (6)\ttotal: 14m 33s\tremaining: 12m 44s\n",
      "8:\tloss: 653734.5984857\tbest: 648681.5255043 (6)\ttotal: 16m 46s\tremaining: 11m 10s\n",
      "9:\tloss: 653662.0017060\tbest: 648681.5255043 (6)\ttotal: 18m 56s\tremaining: 9m 28s\n",
      "10:\tloss: 649810.6486716\tbest: 648681.5255043 (6)\ttotal: 21m 27s\tremaining: 7m 48s\n",
      "11:\tloss: 651829.7108063\tbest: 648681.5255043 (6)\ttotal: 24m\tremaining: 6m\n",
      "12:\tloss: 650638.1809375\tbest: 648681.5255043 (6)\ttotal: 26m 32s\tremaining: 4m 5s\n",
      "13:\tloss: 662157.3061555\tbest: 648681.5255043 (6)\ttotal: 28m 49s\tremaining: 2m 3s\n",
      "14:\tloss: 667906.8420264\tbest: 648681.5255043 (6)\ttotal: 31m 5s\tremaining: 0us\n",
      "Estimating final quality...\n"
     ]
    }
   ],
   "source": [
    "boosting_model = CatBoostRegressor(iterations=3000,\n",
    "                           loss_function='MAE',  \n",
    "                           eval_metric='MAE', \n",
    "                           objective='MAE',\n",
    "                           logging_level='Silent',\n",
    "                           cat_features=categorical_features,\n",
    "                           early_stopping_rounds=1000,\n",
    "                           random_seed=13)\n",
    "grid = {\n",
    "    'learning_rate': [0.10, 0.14, 0.15, 0.16, 0.2],\n",
    "    'depth': [5,6,7]\n",
    "}\n",
    "grid_search_result = boosting_model.grid_search(grid, \n",
    "                                               X=X_train, \n",
    "                                               y=y_train,\n",
    "                                               cv=5,\n",
    "                                               train_size=0.8,\n",
    "                                               plot=True)"
   ]
  },
  {
   "cell_type": "code",
   "execution_count": 18,
   "id": "6bf9fc2b",
   "metadata": {},
   "outputs": [
    {
     "name": "stdout",
     "output_type": "stream",
     "text": [
      "Best model parameters: {'depth': 6, 'learning_rate': 0.14}\n",
      "Model test score: 616504\n",
      "Competition score: 1.6220478224273583e-06\n"
     ]
    }
   ],
   "source": [
    "print(\"Best model parameters: \" + str(grid_search_result['params'])) \n",
    "print(\"Model test score: \" + str(round(mean_absolute_error(boosting_model.predict(X_test), y_test))))\n",
    "print(\"Competition score: \" + str(1 / (1 + mean_absolute_error(boosting_model.predict(X_test), y_test))))"
   ]
  },
  {
   "cell_type": "markdown",
   "id": "8a333bc7",
   "metadata": {},
   "source": [
    "**Тестирование различных вариаций лечшего алгоритма**"
   ]
  },
  {
   "cell_type": "code",
   "execution_count": 216,
   "id": "5c64b9b5",
   "metadata": {},
   "outputs": [
    {
     "data": {
      "text/plain": [
       "<catboost.core.CatBoostRegressor at 0x1f86710d970>"
      ]
     },
     "execution_count": 216,
     "metadata": {},
     "output_type": "execute_result"
    }
   ],
   "source": [
    "best_model = \n",
    "CatBoostRegressor(iterations=10000,\n",
    "                  loss_function='MAE',  \n",
    "                  eval_metric='MAE',\n",
    "                  logging_level='Silent',\n",
    "                  depth=6,\n",
    "                  learning_rate=0.05,\n",
    "                  cat_features=categorical_features,\n",
    "                  early_stopping_rounds=2000)\n",
    "best_model.fit(X_train, y_train)"
   ]
  },
  {
   "cell_type": "code",
   "execution_count": null,
   "id": "7dc51604",
   "metadata": {},
   "outputs": [],
   "source": [
    "#Лучший результат\n",
    "#605972"
   ]
  },
  {
   "cell_type": "code",
   "execution_count": 217,
   "id": "3bbb5382",
   "metadata": {},
   "outputs": [
    {
     "name": "stdout",
     "output_type": "stream",
     "text": [
      "Model test score: 605972\n",
      "Competition score: 1.6502381410969108e-06\n"
     ]
    }
   ],
   "source": [
    "y_pred = best_model.predict(X_test)\n",
    "print(\"Model test score: \" + str(round(mean_absolute_error(y_pred, y_test))))\n",
    "print(\"Competition score: \" + str(1 / (1 + mean_absolute_error(y_pred, y_test))))"
   ]
  },
  {
   "cell_type": "code",
   "execution_count": 137,
   "id": "e1b1586d",
   "metadata": {},
   "outputs": [
    {
     "name": "stdout",
     "output_type": "stream",
     "text": [
      "pred: 3039123  test: 2928000\n",
      "pred: 7734283  test: 7249000\n",
      "pred: 2117274  test: 2184000\n",
      "pred: 2404961  test: 2647000\n",
      "pred: 3761398  test: 3254000\n",
      "pred: 3356469  test: 3500000\n",
      "pred: 5074524  test: 4788000\n",
      "pred: 2229722  test: 2258000\n",
      "pred: 3613606  test: 3815000\n",
      "pred: 5231380  test: 4768000\n"
     ]
    }
   ],
   "source": [
    "#Сравнение предсказаний\n",
    "for i in range(10):\n",
    "    print(\"pred: \" + str(round(y_pred[i])) + \"  test: \" + str(y_test.iloc[i]))"
   ]
  },
  {
   "cell_type": "markdown",
   "id": "083e910b",
   "metadata": {},
   "source": [
    "**Пробую подобрать порог и немного изменить предсказания, на основании анализа результатов**"
   ]
  },
  {
   "cell_type": "code",
   "execution_count": 208,
   "id": "5f37afb1",
   "metadata": {},
   "outputs": [],
   "source": [
    "pred_over = 0\n",
    "pred_over_count = 0\n",
    "pred_lover = 0\n",
    "pred_lover_count = 0\n",
    "for i in range(len(y_pred)):\n",
    "    if y_pred[i] > 400000:  \n",
    "        el = y_pred[i] * 1.001\n",
    "    else:\n",
    "        el = y_pred[i] * 0.999\n",
    "    if el > y_test.iloc[i]:\n",
    "        pred_over += el - y_test.iloc[i]\n",
    "        pred_over_count += 1\n",
    "    else:\n",
    "        pred_lover += y_test.iloc[i] - el\n",
    "        pred_lover_count += 1"
   ]
  },
  {
   "cell_type": "code",
   "execution_count": 207,
   "id": "fe4bc8ed",
   "metadata": {},
   "outputs": [
    {
     "name": "stdout",
     "output_type": "stream",
     "text": [
      "6967856871.63658\n",
      "9877\n",
      "5182057034.550411\n",
      "10123\n",
      "12149913906.186993\n"
     ]
    }
   ],
   "source": [
    "print(pred_over)\n",
    "print(pred_over_count)\n",
    "print(pred_lover)\n",
    "print(pred_lover_count)\n",
    "print(pred_over + pred_lover)"
   ]
  },
  {
   "cell_type": "code",
   "execution_count": 209,
   "id": "d3fa99b7",
   "metadata": {},
   "outputs": [
    {
     "name": "stdout",
     "output_type": "stream",
     "text": [
      "6916890557.313037\n",
      "9795\n",
      "5234967767.017168\n",
      "10205\n",
      "12151858324.330204\n"
     ]
    }
   ],
   "source": [
    "print(pred_over)\n",
    "print(pred_over_count)\n",
    "print(pred_lover)\n",
    "print(pred_lover_count)\n",
    "print(pred_over + pred_lover)"
   ]
  },
  {
   "cell_type": "markdown",
   "id": "46a848cc",
   "metadata": {},
   "source": [
    "**Важность фичей**"
   ]
  },
  {
   "cell_type": "code",
   "execution_count": 163,
   "id": "3cc69adc",
   "metadata": {},
   "outputs": [
    {
     "data": {
      "image/png": "[encoded data removed]",
      "text/plain": [
       "<Figure size 800x950 with 2 Axes>"
      ]
     },
     "metadata": {},
     "output_type": "display_data"
    }
   ],
   "source": [
    "explainer = shap.TreeExplainer(best_model, feature_perturbation=\"tree_path_dependent\")\n",
    "shap_values = explainer.shap_values(X_train)\n",
    "shap.summary_plot(shap_values, X_train)"
   ]
  },
  {
   "cell_type": "markdown",
   "id": "66dd70b0",
   "metadata": {},
   "source": [
    "**Дерево решений (слишком слабый алгоритм)**"
   ]
  },
  {
   "cell_type": "code",
   "execution_count": 39,
   "id": "55787392",
   "metadata": {},
   "outputs": [
    {
     "data": {
      "text/plain": [
       "DecisionTreeRegressor(max_depth=10)"
      ]
     },
     "execution_count": 39,
     "metadata": {},
     "output_type": "execute_result"
    }
   ],
   "source": [
    "tree_model = DecisionTreeRegressor(criterion=\"squared_error\", max_depth=10)\n",
    "tree_model.fit(X_train, y_train)"
   ]
  },
  {
   "cell_type": "code",
   "execution_count": 40,
   "id": "4f842f01",
   "metadata": {},
   "outputs": [
    {
     "name": "stdout",
     "output_type": "stream",
     "text": [
      "Model test score: 1819201\n"
     ]
    }
   ],
   "source": [
    "print(\"Model test score: \" + str(round(mean_absolute_error(tree_model.predict(X_test), y_test))))"
   ]
  },
  {
   "cell_type": "markdown",
   "id": "381dec36",
   "metadata": {},
   "source": [
    "**Случайный лес (работает дольше и дает менее точные предсказания)**"
   ]
  },
  {
   "cell_type": "code",
   "execution_count": 105,
   "id": "c00ffcbc",
   "metadata": {},
   "outputs": [
    {
     "data": {
      "text/plain": [
       "GridSearchCV(cv=5, estimator=RandomForestRegressor(), n_jobs=-1,\n",
       "             param_grid={'max_depth': [10, 15, 20], 'n_estimators': [3000]})"
      ]
     },
     "execution_count": 105,
     "metadata": {},
     "output_type": "execute_result"
    }
   ],
   "source": [
    "parameters = {'n_estimators': [3000],\n",
    "             'max_depth': [10, 15, 20]}\n",
    "clf = RandomForestRegressor(criterion=\"squared_error\")\n",
    "gs_clf = GridSearchCV(clf, parameters, cv=5, n_jobs=-1)\n",
    "gs_clf.fit(X_train, y_train)"
   ]
  },
  {
   "cell_type": "code",
   "execution_count": 106,
   "id": "22d031ff",
   "metadata": {},
   "outputs": [
    {
     "name": "stdout",
     "output_type": "stream",
     "text": [
      "Best model parameters: {'max_depth': 20, 'n_estimators': 3000}\n",
      "Model test score: 1618756\n",
      "Competition score: 6.177579311737805e-07\n"
     ]
    }
   ],
   "source": [
    "print(\"Best model parameters: \" + str(gs_clf.best_params_)) \n",
    "print(\"Model test score: \" + str(round(mean_absolute_error(gs_clf.best_estimator_.predict(X_test), y_test))))\n",
    "print(\"Competition score: \" + str(1 / (1 + mean_absolute_error(gs_clf.best_estimator_.predict(X_test), y_test))))"
   ]
  },
  {
   "cell_type": "code",
   "execution_count": null,
   "id": "2819ba34",
   "metadata": {},
   "outputs": [],
   "source": [
    "#'max_depth': 30, 'n_estimators': 1500\n",
    "#1575394"
   ]
  },
  {
   "cell_type": "code",
   "execution_count": 24,
   "id": "532443a9",
   "metadata": {},
   "outputs": [
    {
     "data": {
      "text/plain": [
       "RandomForestRegressor(max_depth=30, n_estimators=3000)"
      ]
     },
     "execution_count": 24,
     "metadata": {},
     "output_type": "execute_result"
    }
   ],
   "source": [
    "best_rf_model = RandomForestRegressor(criterion=\"squared_error\", max_depth=30, n_estimators=3000)\n",
    "best_rf_model.fit(X, y)"
   ]
  },
  {
   "cell_type": "markdown",
   "id": "889905cf",
   "metadata": {},
   "source": [
    "**Финальная модель и предсказание результатов**"
   ]
  },
  {
   "cell_type": "code",
   "execution_count": 220,
   "id": "c1de3561",
   "metadata": {},
   "outputs": [
    {
     "data": {
      "text/plain": [
       "<catboost.core.CatBoostRegressor at 0x1f86722a400>"
      ]
     },
     "execution_count": 220,
     "metadata": {},
     "output_type": "execute_result"
    }
   ],
   "source": [
    "best_model = CatBoostRegressor(iterations=10000,\n",
    "                               loss_function='MAE',  \n",
    "                               eval_metric='MAE',  \n",
    "                               logging_level='Silent',\n",
    "                               depth=6,\n",
    "                               learning_rate=0.05,\n",
    "                               cat_features=categorical_features,\n",
    "                               early_stopping_rounds=3000)\n",
    "best_model.fit(X, y)"
   ]
  },
  {
   "cell_type": "code",
   "execution_count": 221,
   "id": "153df219",
   "metadata": {},
   "outputs": [],
   "source": [
    "y_pred = best_model.predict(test)"
   ]
  },
  {
   "cell_type": "code",
   "execution_count": 222,
   "id": "62217158",
   "metadata": {},
   "outputs": [
    {
     "data": {
      "text/html": [
       "<div>\n",
       "<style scoped>\n",
       "    .dataframe tbody tr th:only-of-type {\n",
       "        vertical-align: middle;\n",
       "    }\n",
       "\n",
       "    .dataframe tbody tr th {\n",
       "        vertical-align: top;\n",
       "    }\n",
       "\n",
       "    .dataframe thead th {\n",
       "        text-align: right;\n",
       "    }\n",
       "</style>\n",
       "<table border=\"1\" class=\"dataframe\">\n",
       "  <thead>\n",
       "    <tr style=\"text-align: right;\">\n",
       "      <th></th>\n",
       "      <th>id</th>\n",
       "      <th>price</th>\n",
       "    </tr>\n",
       "  </thead>\n",
       "  <tbody>\n",
       "    <tr>\n",
       "      <th>0</th>\n",
       "      <td>100000</td>\n",
       "      <td>8.424037e+06</td>\n",
       "    </tr>\n",
       "    <tr>\n",
       "      <th>1</th>\n",
       "      <td>100001</td>\n",
       "      <td>4.203325e+06</td>\n",
       "    </tr>\n",
       "    <tr>\n",
       "      <th>2</th>\n",
       "      <td>100002</td>\n",
       "      <td>3.853761e+06</td>\n",
       "    </tr>\n",
       "    <tr>\n",
       "      <th>3</th>\n",
       "      <td>100003</td>\n",
       "      <td>2.954943e+06</td>\n",
       "    </tr>\n",
       "    <tr>\n",
       "      <th>4</th>\n",
       "      <td>100004</td>\n",
       "      <td>6.812780e+06</td>\n",
       "    </tr>\n",
       "  </tbody>\n",
       "</table>\n",
       "</div>"
      ],
      "text/plain": [
       "       id         price\n",
       "0  100000  8.424037e+06\n",
       "1  100001  4.203325e+06\n",
       "2  100002  3.853761e+06\n",
       "3  100003  2.954943e+06\n",
       "4  100004  6.812780e+06"
      ]
     },
     "execution_count": 222,
     "metadata": {},
     "output_type": "execute_result"
    }
   ],
   "source": [
    "submission = pd.DataFrame({'id':test.index, 'price':y_pred})\n",
    "submission.to_csv('submission.csv', index=False)\n",
    "submission.head()"
   ]
  },
  {
   "cell_type": "markdown",
   "id": "c02b733b",
   "metadata": {},
   "source": [
    "**Усредненные результаты Бустинг + случаный лес (хуже)**"
   ]
  },
  {
   "cell_type": "code",
   "execution_count": 23,
   "id": "cc41b9e3",
   "metadata": {},
   "outputs": [],
   "source": [
    "y_pred_boost = best_model.predict(test)\n",
    "y_pred_forest = best_rf_model.predict(test)\n",
    "y_pred_avg = (y_pred_boost + y_pred_forest) / 2"
   ]
  },
  {
   "cell_type": "code",
   "execution_count": 24,
   "id": "032cc3ce",
   "metadata": {},
   "outputs": [
    {
     "data": {
      "text/html": [
       "<div>\n",
       "<style scoped>\n",
       "    .dataframe tbody tr th:only-of-type {\n",
       "        vertical-align: middle;\n",
       "    }\n",
       "\n",
       "    .dataframe tbody tr th {\n",
       "        vertical-align: top;\n",
       "    }\n",
       "\n",
       "    .dataframe thead th {\n",
       "        text-align: right;\n",
       "    }\n",
       "</style>\n",
       "<table border=\"1\" class=\"dataframe\">\n",
       "  <thead>\n",
       "    <tr style=\"text-align: right;\">\n",
       "      <th></th>\n",
       "      <th>id</th>\n",
       "      <th>price</th>\n",
       "    </tr>\n",
       "  </thead>\n",
       "  <tbody>\n",
       "    <tr>\n",
       "      <th>0</th>\n",
       "      <td>100000</td>\n",
       "      <td>6.589131e+06</td>\n",
       "    </tr>\n",
       "    <tr>\n",
       "      <th>1</th>\n",
       "      <td>100001</td>\n",
       "      <td>4.439254e+06</td>\n",
       "    </tr>\n",
       "    <tr>\n",
       "      <th>2</th>\n",
       "      <td>100002</td>\n",
       "      <td>3.205401e+06</td>\n",
       "    </tr>\n",
       "    <tr>\n",
       "      <th>3</th>\n",
       "      <td>100003</td>\n",
       "      <td>3.800154e+06</td>\n",
       "    </tr>\n",
       "    <tr>\n",
       "      <th>4</th>\n",
       "      <td>100004</td>\n",
       "      <td>5.821909e+06</td>\n",
       "    </tr>\n",
       "  </tbody>\n",
       "</table>\n",
       "</div>"
      ],
      "text/plain": [
       "       id         price\n",
       "0  100000  6.589131e+06\n",
       "1  100001  4.439254e+06\n",
       "2  100002  3.205401e+06\n",
       "3  100003  3.800154e+06\n",
       "4  100004  5.821909e+06"
      ]
     },
     "execution_count": 24,
     "metadata": {},
     "output_type": "execute_result"
    }
   ],
   "source": [
    "submission = pd.DataFrame({'id':test.index, 'price':y_pred_avg})\n",
    "submission.to_csv('submission.csv', index=False)\n",
    "submission.head()"
   ]
  }
 ],
 "metadata": {
  "kernelspec": {
   "display_name": "Python 3 (ipykernel)",
   "language": "python",
   "name": "python3"
  },
  "language_info": {
   "codemirror_mode": {
    "name": "ipython",
    "version": 3
   },
   "file_extension": ".py",
   "mimetype": "text/x-python",
   "name": "python",
   "nbconvert_exporter": "python",
   "pygments_lexer": "ipython3",
   "version": "3.9.13"
  }
 },
 "nbformat": 4,
 "nbformat_minor": 5
}
