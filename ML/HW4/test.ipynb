{
 "cells": [
  {
   "cell_type": "code",
   "execution_count": 2,
   "id": "9eec2bad",
   "metadata": {},
   "outputs": [],
   "source": [
    "import numpy as np\n",
    "import pandas as pd\n",
    "import matplotlib.pyplot as plt\n",
    "from scipy import sparse\n",
    "from tqdm import tqdm\n",
    "from sklearn.cluster import KMeans\n",
    "from sklearn.metrics import silhouette_score\n",
    "import matplotlib.pyplot as plt\n",
    "from sklearn.cluster import AgglomerativeClustering\n",
    "from sklearn.cluster import DBSCAN\n",
    "import hdbscan\n",
    "from sklearn.mixture import GaussianMixture\n",
    "from sklearn.cluster import SpectralClustering\n",
    "from yellowbrick.cluster import KElbowVisualizer\n",
    "from sklearn.decomposition import TruncatedSVD\n",
    "from sklearn.decomposition import PCA\n",
    "from sklearn.manifold import TSNE\n",
    "from sklearn.preprocessing import StandardScaler\n",
    "from sklearn.preprocessing import MaxAbsScaler\n",
    "import umap\n",
    "from sklearn.neighbors import NearestNeighbors\n",
    "from sklearn.preprocessing import RobustScaler"
   ]
  },
  {
   "cell_type": "markdown",
   "id": "fdf495c2",
   "metadata": {},
   "source": [
    "**Из всех зачений в format только 1 не пустое, а в shape - 2**"
   ]
  },
  {
   "cell_type": "code",
   "execution_count": 3,
   "id": "5d6324bc",
   "metadata": {},
   "outputs": [],
   "source": [
    "data = sparse.load_npz(\"train.npz\")"
   ]
  },
  {
   "cell_type": "code",
   "execution_count": 4,
   "id": "922127dd",
   "metadata": {},
   "outputs": [],
   "source": [
    "def make_sub(labels):\n",
    "    submission = pd.DataFrame({'ID':range(data.shape[0]), 'TARGET':labels})\n",
    "    submission.to_csv('submission.csv', index=False)\n",
    "    print(submission.head(3))"
   ]
  },
  {
   "cell_type": "code",
   "execution_count": 18,
   "id": "23051e5e",
   "metadata": {},
   "outputs": [
    {
     "name": "stderr",
     "output_type": "stream",
     "text": [
      "C:\\Users\\baben_bakg1j1\\anaconda3\\lib\\site-packages\\umap\\umap_.py:1945: UserWarning: n_jobs value 1 overridden to 1 by setting random_state. Use no seed for parallelism.\n",
      "  warn(f\"n_jobs value {self.n_jobs} overridden to 1 by setting random_state. Use no seed for parallelism.\")\n"
     ]
    }
   ],
   "source": [
    "reducer = umap.UMAP(\n",
    "    n_components=3,\n",
    "    random_state=42\n",
    "    )\n",
    "data_scaled = reducer.fit_transform(data)"
   ]
  },
  {
   "cell_type": "markdown",
   "id": "162011bc",
   "metadata": {},
   "source": [
    "**DBSCAN (стал хуже)**"
   ]
  },
  {
   "cell_type": "code",
   "execution_count": 35,
   "id": "b4fa16c8",
   "metadata": {},
   "outputs": [
    {
     "name": "stdout",
     "output_type": "stream",
     "text": [
      "366\n",
      "1088\n"
     ]
    },
    {
     "data": {
      "text/html": [
       "<div>\n",
       "<style scoped>\n",
       "    .dataframe tbody tr th:only-of-type {\n",
       "        vertical-align: middle;\n",
       "    }\n",
       "\n",
       "    .dataframe tbody tr th {\n",
       "        vertical-align: top;\n",
       "    }\n",
       "\n",
       "    .dataframe thead th {\n",
       "        text-align: right;\n",
       "    }\n",
       "</style>\n",
       "<table border=\"1\" class=\"dataframe\">\n",
       "  <thead>\n",
       "    <tr style=\"text-align: right;\">\n",
       "      <th></th>\n",
       "      <th>ID</th>\n",
       "      <th>TARGET</th>\n",
       "    </tr>\n",
       "  </thead>\n",
       "  <tbody>\n",
       "    <tr>\n",
       "      <th>count</th>\n",
       "      <td>14590.000000</td>\n",
       "      <td>14590.000000</td>\n",
       "    </tr>\n",
       "    <tr>\n",
       "      <th>mean</th>\n",
       "      <td>7294.500000</td>\n",
       "      <td>0.111446</td>\n",
       "    </tr>\n",
       "    <tr>\n",
       "      <th>std</th>\n",
       "      <td>4211.914549</td>\n",
       "      <td>0.652365</td>\n",
       "    </tr>\n",
       "    <tr>\n",
       "      <th>min</th>\n",
       "      <td>0.000000</td>\n",
       "      <td>-1.000000</td>\n",
       "    </tr>\n",
       "    <tr>\n",
       "      <th>25%</th>\n",
       "      <td>3647.250000</td>\n",
       "      <td>0.000000</td>\n",
       "    </tr>\n",
       "    <tr>\n",
       "      <th>50%</th>\n",
       "      <td>7294.500000</td>\n",
       "      <td>0.000000</td>\n",
       "    </tr>\n",
       "    <tr>\n",
       "      <th>75%</th>\n",
       "      <td>10941.750000</td>\n",
       "      <td>0.000000</td>\n",
       "    </tr>\n",
       "    <tr>\n",
       "      <th>max</th>\n",
       "      <td>14589.000000</td>\n",
       "      <td>6.000000</td>\n",
       "    </tr>\n",
       "  </tbody>\n",
       "</table>\n",
       "</div>"
      ],
      "text/plain": [
       "                 ID        TARGET\n",
       "count  14590.000000  14590.000000\n",
       "mean    7294.500000      0.111446\n",
       "std     4211.914549      0.652365\n",
       "min        0.000000     -1.000000\n",
       "25%     3647.250000      0.000000\n",
       "50%     7294.500000      0.000000\n",
       "75%    10941.750000      0.000000\n",
       "max    14589.000000      6.000000"
      ]
     },
     "execution_count": 35,
     "metadata": {},
     "output_type": "execute_result"
    }
   ],
   "source": [
    "model_db = DBSCAN(eps=0.32, min_samples=25)\n",
    "model_db.fit(data_scaled)\n",
    "submission = pd.DataFrame({'ID':range(data.shape[0]), 'TARGET':model_db.labels_})\n",
    "print(submission.query('TARGET == -1').TARGET.count())\n",
    "print(submission.query('TARGET > 0')['TARGET'].count())\n",
    "submission.describe()"
   ]
  },
  {
   "cell_type": "code",
   "execution_count": null,
   "id": "23bb5a34",
   "metadata": {},
   "outputs": [],
   "source": []
  }
 ],
 "metadata": {
  "kernelspec": {
   "display_name": "Python 3 (ipykernel)",
   "language": "python",
   "name": "python3"
  },
  "language_info": {
   "codemirror_mode": {
    "name": "ipython",
    "version": 3
   },
   "file_extension": ".py",
   "mimetype": "text/x-python",
   "name": "python",
   "nbconvert_exporter": "python",
   "pygments_lexer": "ipython3",
   "version": "3.9.13"
  }
 },
 "nbformat": 4,
 "nbformat_minor": 5
}
