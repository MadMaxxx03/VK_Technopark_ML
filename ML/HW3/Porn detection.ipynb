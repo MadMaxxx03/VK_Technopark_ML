{
 "cells": [
  {
   "cell_type": "code",
   "execution_count": 1,
   "id": "403020c6",
   "metadata": {},
   "outputs": [
    {
     "name": "stderr",
     "output_type": "stream",
     "text": [
      "[nltk_data] Downloading package stopwords to\n",
      "[nltk_data]     C:\\Users\\baben_bakg1j1\\AppData\\Roaming\\nltk_data...\n",
      "[nltk_data]   Package stopwords is already up-to-date!\n"
     ]
    }
   ],
   "source": [
    "import numpy as np \n",
    "import pandas as pd\n",
    "from sklearn.feature_extraction.text import CountVectorizer, TfidfVectorizer\n",
    "from sklearn.compose import ColumnTransformer\n",
    "import string\n",
    "from sklearn.linear_model  import LogisticRegression\n",
    "import nltk\n",
    "from nltk.corpus import stopwords\n",
    "nltk.download('stopwords')\n",
    "import pymorphy2"
   ]
  },
  {
   "cell_type": "code",
   "execution_count": 2,
   "id": "765aa254",
   "metadata": {},
   "outputs": [
    {
     "data": {
      "text/html": [
       "<div>\n",
       "<style scoped>\n",
       "    .dataframe tbody tr th:only-of-type {\n",
       "        vertical-align: middle;\n",
       "    }\n",
       "\n",
       "    .dataframe tbody tr th {\n",
       "        vertical-align: top;\n",
       "    }\n",
       "\n",
       "    .dataframe thead th {\n",
       "        text-align: right;\n",
       "    }\n",
       "</style>\n",
       "<table border=\"1\" class=\"dataframe\">\n",
       "  <thead>\n",
       "    <tr style=\"text-align: right;\">\n",
       "      <th></th>\n",
       "      <th>url</th>\n",
       "      <th>title</th>\n",
       "      <th>label</th>\n",
       "    </tr>\n",
       "    <tr>\n",
       "      <th>ID</th>\n",
       "      <th></th>\n",
       "      <th></th>\n",
       "      <th></th>\n",
       "    </tr>\n",
       "  </thead>\n",
       "  <tbody>\n",
       "    <tr>\n",
       "      <th>0</th>\n",
       "      <td>m.kp.md</td>\n",
       "      <td>Экс-министр экономики Молдовы - главе МИДЭИ, ц...</td>\n",
       "      <td>0</td>\n",
       "    </tr>\n",
       "    <tr>\n",
       "      <th>1</th>\n",
       "      <td>www.kp.by</td>\n",
       "      <td>Эта песня стала известна многим телезрителям б...</td>\n",
       "      <td>0</td>\n",
       "    </tr>\n",
       "  </tbody>\n",
       "</table>\n",
       "</div>"
      ],
      "text/plain": [
       "          url                                              title  label\n",
       "ID                                                                     \n",
       "0     m.kp.md  Экс-министр экономики Молдовы - главе МИДЭИ, ц...      0\n",
       "1   www.kp.by  Эта песня стала известна многим телезрителям б...      0"
      ]
     },
     "execution_count": 2,
     "metadata": {},
     "output_type": "execute_result"
    }
   ],
   "source": [
    "test = pd.read_csv(\"test.csv\", index_col='ID')\n",
    "train = pd.read_csv(\"train.csv\", index_col='ID')\n",
    "train.head(2)"
   ]
  },
  {
   "cell_type": "code",
   "execution_count": 6,
   "id": "429293c7",
   "metadata": {},
   "outputs": [
    {
     "data": {
      "text/html": [
       "<div>\n",
       "<style scoped>\n",
       "    .dataframe tbody tr th:only-of-type {\n",
       "        vertical-align: middle;\n",
       "    }\n",
       "\n",
       "    .dataframe tbody tr th {\n",
       "        vertical-align: top;\n",
       "    }\n",
       "\n",
       "    .dataframe thead th {\n",
       "        text-align: right;\n",
       "    }\n",
       "</style>\n",
       "<table border=\"1\" class=\"dataframe\">\n",
       "  <thead>\n",
       "    <tr style=\"text-align: right;\">\n",
       "      <th></th>\n",
       "      <th>url</th>\n",
       "      <th>title</th>\n",
       "    </tr>\n",
       "    <tr>\n",
       "      <th>ID</th>\n",
       "      <th></th>\n",
       "      <th></th>\n",
       "    </tr>\n",
       "  </thead>\n",
       "  <tbody>\n",
       "    <tr>\n",
       "      <th>135309</th>\n",
       "      <td>www.kommersant.ru</td>\n",
       "      <td>Шестой кассационный суд в Самаре начнет работу...</td>\n",
       "    </tr>\n",
       "    <tr>\n",
       "      <th>135310</th>\n",
       "      <td>urexpert.online</td>\n",
       "      <td>Что такое индексация алиментов, кем и в каких ...</td>\n",
       "    </tr>\n",
       "    <tr>\n",
       "      <th>135311</th>\n",
       "      <td>imperimeha.ru</td>\n",
       "      <td>Женщинам | Империя Меха - Part 12</td>\n",
       "    </tr>\n",
       "    <tr>\n",
       "      <th>135312</th>\n",
       "      <td>national-porn.com</td>\n",
       "      <td>Небритые, волосатые киски: Порно всех стран и ...</td>\n",
       "    </tr>\n",
       "    <tr>\n",
       "      <th>135313</th>\n",
       "      <td>2gis.ru</td>\n",
       "      <td>67</td>\n",
       "    </tr>\n",
       "  </tbody>\n",
       "</table>\n",
       "</div>"
      ],
      "text/plain": [
       "                      url                                              title\n",
       "ID                                                                          \n",
       "135309  www.kommersant.ru  Шестой кассационный суд в Самаре начнет работу...\n",
       "135310    urexpert.online  Что такое индексация алиментов, кем и в каких ...\n",
       "135311      imperimeha.ru                  Женщинам | Империя Меха - Part 12\n",
       "135312  national-porn.com  Небритые, волосатые киски: Порно всех стран и ...\n",
       "135313            2gis.ru                                                 67"
      ]
     },
     "execution_count": 6,
     "metadata": {},
     "output_type": "execute_result"
    }
   ],
   "source": [
    "test.head(5)"
   ]
  },
  {
   "cell_type": "code",
   "execution_count": 228,
   "id": "31eca13c",
   "metadata": {},
   "outputs": [
    {
     "name": "stdout",
     "output_type": "stream",
     "text": [
      "url      0\n",
      "title    0\n",
      "dtype: int64\n",
      "url      0\n",
      "title    0\n",
      "label    0\n",
      "dtype: int64\n"
     ]
    }
   ],
   "source": [
    "print(test.isnull().sum())\n",
    "print(train.isnull().sum())"
   ]
  },
  {
   "cell_type": "code",
   "execution_count": 244,
   "id": "4652be4b",
   "metadata": {},
   "outputs": [],
   "source": [
    "y_train = train['label']\n",
    "X_train = train.drop(['label'], axis=1)"
   ]
  },
  {
   "cell_type": "markdown",
   "id": "493ce614",
   "metadata": {},
   "source": [
    "**Удаление лишних символов + стоп слов + лемматизация**"
   ]
  },
  {
   "cell_type": "code",
   "execution_count": 245,
   "id": "7eeed9ef",
   "metadata": {},
   "outputs": [],
   "source": [
    "def preprosessing_punctuation(text):\n",
    "    return \" \".join(text.translate(str.maketrans(string.punctuation, ' ' * len(string.punctuation))).lower().split())"
   ]
  },
  {
   "cell_type": "code",
   "execution_count": 246,
   "id": "1d6a6bfc",
   "metadata": {},
   "outputs": [],
   "source": [
    "def preprosessing_without_lem(text, stop_words, morph):\n",
    "    words = text.translate(str.maketrans(string.punctuation, ' ' * len(string.punctuation))).lower().split()\n",
    "    new_words = []\n",
    "    for word in words:\n",
    "        if word not in stop_words:\n",
    "            new_words.append(word)\n",
    "    return \" \".join(new_words)"
   ]
  },
  {
   "cell_type": "code",
   "execution_count": 247,
   "id": "552fb2f7",
   "metadata": {},
   "outputs": [],
   "source": [
    "def preprosessing(text, stop_words, morph):\n",
    "    words = text.translate(str.maketrans(string.punctuation, ' ' * len(string.punctuation))).lower().split()\n",
    "    lemmatized_words = []\n",
    "    for word in words:\n",
    "        if word not in stop_words:\n",
    "            lemmatized_word = morph.parse(word)[0].normal_form\n",
    "            lemmatized_words.append(lemmatized_word)\n",
    "    return \" \".join(lemmatized_words)\n",
    "    "
   ]
  },
  {
   "cell_type": "markdown",
   "id": "e0920fe2",
   "metadata": {},
   "source": [
    "**По итогам многих экспериментов выяснилось, что изначально лучше всего просто избавиться от лишних символов и привести все к нижнему регистру. Удаление стоп слов и лемматизация только ухудшали результат, а url лучше вообще не торогать**"
   ]
  },
  {
   "cell_type": "code",
   "execution_count": 248,
   "id": "5623f55c",
   "metadata": {},
   "outputs": [],
   "source": [
    "stop_words = set(stopwords.words(\"russian\")) | set(stopwords.words(\"english\"))\n",
    "morph = pymorphy2.MorphAnalyzer()\n",
    "\n",
    "#X_train['url'] = X_train['url'].apply(lambda x: preprosessing_without_lem(x, stop_words, morph))\n",
    "#X_train['title'] = X_train['title'].apply(lambda x: preprosessing(x, stop_words, morph))\n",
    "#test['title'] = test['title'].apply(lambda x: preprosessing(x, stop_words, morph))\n",
    "#test['url'] = test['url'].apply(lambda x: preprosessing(x, stop_words, morph))\n",
    "\n",
    "#X_train['url'] = X_train['url'].apply(lambda x: preprosessing_punctuation(x))\n",
    "X_train['title'] = X_train['title'].apply(lambda x: preprosessing_punctuation(x))\n",
    "test['title'] = test['title'].apply(lambda x: preprosessing_punctuation(x))\n",
    "#test['url'] = test['url'].apply(lambda x: preprosessing_punctuation(x))\n"
   ]
  },
  {
   "cell_type": "markdown",
   "id": "8f49fb91",
   "metadata": {},
   "source": [
    "**Использование отдельных vectorizer-ов для url и title**"
   ]
  },
  {
   "cell_type": "code",
   "execution_count": 249,
   "id": "5f27dad5",
   "metadata": {},
   "outputs": [],
   "source": [
    "preprocessor = ColumnTransformer(\n",
    "    transformers=[\n",
    "        ('url', TfidfVectorizer(\n",
    "            analyzer=\"char_wb\", ngram_range=(2, 4),\n",
    "            min_df=3, max_df=0.75), 'url'),\n",
    "        ('title', CountVectorizer(\n",
    "            stop_words=stop_words, min_df=3,\n",
    "            max_df=0.75), 'title')\n",
    "    ])"
   ]
  },
  {
   "cell_type": "code",
   "execution_count": 250,
   "id": "a264af01",
   "metadata": {},
   "outputs": [],
   "source": [
    "X_train_preprocessed = preprocessor.fit_transform(X_train)\n",
    "test_preprocessed = preprocessor.transform(test)"
   ]
  },
  {
   "cell_type": "markdown",
   "id": "83026371",
   "metadata": {},
   "source": [
    "**Логистическая регрессия с лучшими подобранными гиперпараметрами (Были протестированы и другие алогоритмы, но они показали себя хуже)**"
   ]
  },
  {
   "cell_type": "code",
   "execution_count": 251,
   "id": "527f2181",
   "metadata": {},
   "outputs": [],
   "source": [
    "model = LogisticRegression(\n",
    "    C=1.5, solver='lbfgs', \n",
    "    class_weight='balanced', max_iter=1500)\n",
    "\n",
    "model.fit(X_train_preprocessed, y_train)\n",
    "y_pred = model.predict(test_preprocessed)"
   ]
  },
  {
   "cell_type": "markdown",
   "id": "32d14a5f",
   "metadata": {},
   "source": [
    "**Реализую гипотезу об отнесении сайта к положительному классу, при вхождении в его title и url 'плохих слов'\n",
    "(Получился небольшой прирост точности)**"
   ]
  },
  {
   "cell_type": "code",
   "execution_count": 252,
   "id": "d1fa5bc7",
   "metadata": {},
   "outputs": [],
   "source": [
    "bad_words = []\n",
    "with open('words.txt', 'r', encoding='utf-8') as file:\n",
    "    for line in file:\n",
    "        bad_words.append(line.strip())\n",
    "        \n",
    "for i, url in enumerate(test['url']):\n",
    "    for word in bad_words:\n",
    "        if word in url:\n",
    "            y_pred[i] = 1\n",
    "            \n",
    "for i, title in enumerate(test['title']):\n",
    "    for word in bad_words:\n",
    "        if word in title:\n",
    "            y_pred[i] = 1"
   ]
  },
  {
   "cell_type": "code",
   "execution_count": 253,
   "id": "d468f440",
   "metadata": {
    "scrolled": true
   },
   "outputs": [
    {
     "data": {
      "text/html": [
       "<div>\n",
       "<style scoped>\n",
       "    .dataframe tbody tr th:only-of-type {\n",
       "        vertical-align: middle;\n",
       "    }\n",
       "\n",
       "    .dataframe tbody tr th {\n",
       "        vertical-align: top;\n",
       "    }\n",
       "\n",
       "    .dataframe thead th {\n",
       "        text-align: right;\n",
       "    }\n",
       "</style>\n",
       "<table border=\"1\" class=\"dataframe\">\n",
       "  <thead>\n",
       "    <tr style=\"text-align: right;\">\n",
       "      <th></th>\n",
       "      <th>ID</th>\n",
       "      <th>label</th>\n",
       "    </tr>\n",
       "  </thead>\n",
       "  <tbody>\n",
       "    <tr>\n",
       "      <th>0</th>\n",
       "      <td>135309</td>\n",
       "      <td>0</td>\n",
       "    </tr>\n",
       "    <tr>\n",
       "      <th>1</th>\n",
       "      <td>135310</td>\n",
       "      <td>0</td>\n",
       "    </tr>\n",
       "    <tr>\n",
       "      <th>2</th>\n",
       "      <td>135311</td>\n",
       "      <td>0</td>\n",
       "    </tr>\n",
       "    <tr>\n",
       "      <th>3</th>\n",
       "      <td>135312</td>\n",
       "      <td>1</td>\n",
       "    </tr>\n",
       "    <tr>\n",
       "      <th>4</th>\n",
       "      <td>135313</td>\n",
       "      <td>0</td>\n",
       "    </tr>\n",
       "  </tbody>\n",
       "</table>\n",
       "</div>"
      ],
      "text/plain": [
       "       ID  label\n",
       "0  135309      0\n",
       "1  135310      0\n",
       "2  135311      0\n",
       "3  135312      1\n",
       "4  135313      0"
      ]
     },
     "execution_count": 253,
     "metadata": {},
     "output_type": "execute_result"
    }
   ],
   "source": [
    "submission = pd.DataFrame({'ID':test.reset_index()['ID'], 'label':y_pred})\n",
    "submission.to_csv('submission.csv', index=False)\n",
    "submission.head()"
   ]
  }
 ],
 "metadata": {
  "kernelspec": {
   "display_name": "Python 3 (ipykernel)",
   "language": "python",
   "name": "python3"
  },
  "language_info": {
   "codemirror_mode": {
    "name": "ipython",
    "version": 3
   },
   "file_extension": ".py",
   "mimetype": "text/x-python",
   "name": "python",
   "nbconvert_exporter": "python",
   "pygments_lexer": "ipython3",
   "version": "3.9.13"
  }
 },
 "nbformat": 4,
 "nbformat_minor": 5
}
