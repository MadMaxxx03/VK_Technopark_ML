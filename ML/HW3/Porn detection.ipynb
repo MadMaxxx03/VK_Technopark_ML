{
 "cells": [
  {
   "cell_type": "code",
   "execution_count": 206,
   "id": "403020c6",
   "metadata": {},
   "outputs": [
    {
     "name": "stderr",
     "output_type": "stream",
     "text": [
      "[nltk_data] Downloading package stopwords to\n",
      "[nltk_data]     C:\\Users\\Максим\\AppData\\Roaming\\nltk_data...\n",
      "[nltk_data]   Package stopwords is already up-to-date!\n"
     ]
    }
   ],
   "source": [
    "import numpy as np \n",
    "import pandas as pd\n",
    "from sklearn.feature_extraction.text import CountVectorizer, TfidfVectorizer\n",
    "from sklearn.compose import ColumnTransformer\n",
    "import string\n",
    "from sklearn.linear_model  import LogisticRegression\n",
    "import nltk\n",
    "from nltk.corpus import stopwords\n",
    "nltk.download('stopwords')\n",
    "import pymorphy2\n",
    "from tqdm import tqdm\n",
    "from sklearn.ensemble import RandomForestClassifier"
   ]
  },
  {
   "cell_type": "code",
   "execution_count": 207,
   "id": "765aa254",
   "metadata": {},
   "outputs": [
    {
     "data": {
      "text/html": [
       "<div>\n",
       "<style scoped>\n",
       "    .dataframe tbody tr th:only-of-type {\n",
       "        vertical-align: middle;\n",
       "    }\n",
       "\n",
       "    .dataframe tbody tr th {\n",
       "        vertical-align: top;\n",
       "    }\n",
       "\n",
       "    .dataframe thead th {\n",
       "        text-align: right;\n",
       "    }\n",
       "</style>\n",
       "<table border=\"1\" class=\"dataframe\">\n",
       "  <thead>\n",
       "    <tr style=\"text-align: right;\">\n",
       "      <th></th>\n",
       "      <th>url</th>\n",
       "      <th>title</th>\n",
       "      <th>label</th>\n",
       "    </tr>\n",
       "    <tr>\n",
       "      <th>ID</th>\n",
       "      <th></th>\n",
       "      <th></th>\n",
       "      <th></th>\n",
       "    </tr>\n",
       "  </thead>\n",
       "  <tbody>\n",
       "    <tr>\n",
       "      <th>0</th>\n",
       "      <td>m.kp.md</td>\n",
       "      <td>Экс-министр экономики Молдовы - главе МИДЭИ, ц...</td>\n",
       "      <td>0</td>\n",
       "    </tr>\n",
       "    <tr>\n",
       "      <th>1</th>\n",
       "      <td>www.kp.by</td>\n",
       "      <td>Эта песня стала известна многим телезрителям б...</td>\n",
       "      <td>0</td>\n",
       "    </tr>\n",
       "  </tbody>\n",
       "</table>\n",
       "</div>"
      ],
      "text/plain": [
       "          url                                              title  label\n",
       "ID                                                                     \n",
       "0     m.kp.md  Экс-министр экономики Молдовы - главе МИДЭИ, ц...      0\n",
       "1   www.kp.by  Эта песня стала известна многим телезрителям б...      0"
      ]
     },
     "execution_count": 207,
     "metadata": {},
     "output_type": "execute_result"
    }
   ],
   "source": [
    "test = pd.read_csv(\"test.csv\", index_col='ID')\n",
    "train = pd.read_csv(\"train.csv\", index_col='ID')\n",
    "train.head(2)"
   ]
  },
  {
   "cell_type": "code",
   "execution_count": 208,
   "id": "31eca13c",
   "metadata": {},
   "outputs": [
    {
     "name": "stdout",
     "output_type": "stream",
     "text": [
      "url      0\n",
      "title    0\n",
      "dtype: int64\n",
      "url      0\n",
      "title    1\n",
      "label    0\n",
      "dtype: int64\n"
     ]
    }
   ],
   "source": [
    "print(test.isnull().sum())\n",
    "print(train.isnull().sum())"
   ]
  },
  {
   "cell_type": "code",
   "execution_count": 209,
   "id": "0df59225",
   "metadata": {},
   "outputs": [
    {
     "name": "stdout",
     "output_type": "stream",
     "text": [
      "url      0\n",
      "title    0\n",
      "label    0\n",
      "dtype: int64\n"
     ]
    }
   ],
   "source": [
    "train = train.dropna()\n",
    "print(train.isnull().sum())"
   ]
  },
  {
   "cell_type": "code",
   "execution_count": 210,
   "id": "4652be4b",
   "metadata": {},
   "outputs": [],
   "source": [
    "y_train = train['label']\n",
    "X_train = train.drop(['label'], axis=1)"
   ]
  },
  {
   "cell_type": "markdown",
   "id": "493ce614",
   "metadata": {},
   "source": [
    "**Удаление лишних символов + стоп слов + лемматизация**"
   ]
  },
  {
   "cell_type": "code",
   "execution_count": 211,
   "id": "1d6a6bfc",
   "metadata": {},
   "outputs": [],
   "source": [
    "def preprosessing_without_lem(text, stop_words, morph):\n",
    "    words = text.translate(str.maketrans(string.punctuation, ' ' * len(string.punctuation))).lower().split()\n",
    "    new_words = []\n",
    "    for word in words:\n",
    "        if word not in stop_words:\n",
    "            new_words.append(word)\n",
    "    return \" \".join(new_words)"
   ]
  },
  {
   "cell_type": "code",
   "execution_count": 212,
   "id": "552fb2f7",
   "metadata": {},
   "outputs": [],
   "source": [
    "def preprosessing(text, stop_words, morph):\n",
    "    words = text.translate(str.maketrans(string.punctuation, ' ' * len(string.punctuation))).lower().split()\n",
    "    lemmatized_words = []\n",
    "    for word in words:\n",
    "        if word not in stop_words:\n",
    "            lemmatized_word = morph.parse(word)[0].normal_form\n",
    "            lemmatized_words.append(lemmatized_word)\n",
    "    return \" \".join(lemmatized_words)\n",
    "    "
   ]
  },
  {
   "cell_type": "code",
   "execution_count": 213,
   "id": "5623f55c",
   "metadata": {},
   "outputs": [],
   "source": [
    "stop_words = set(stopwords.words(\"russian\")) | set(stopwords.words(\"english\"))\n",
    "morph = pymorphy2.MorphAnalyzer()\n",
    "\n",
    "#X_train['url'] = X_train['url'].apply(lambda x: preprosessing_without_lem(x, stop_words, morph))\n",
    "X_train['title'] = X_train['title'].apply(lambda x: preprosessing_without_lem(x, stop_words, morph))\n",
    "#test['title'] = test['title'].apply(lambda x: preprosessing_without_lem(x, stop_words, morph))\n",
    "test['url'] = test['url'].apply(lambda x: preprosessing_without_lem(x, stop_words, morph))"
   ]
  },
  {
   "cell_type": "markdown",
   "id": "8f49fb91",
   "metadata": {},
   "source": [
    "**Использование отдельных vectorizer-ов для url и title**"
   ]
  },
  {
   "cell_type": "code",
   "execution_count": 214,
   "id": "5f27dad5",
   "metadata": {},
   "outputs": [],
   "source": [
    "preprocessor = ColumnTransformer(\n",
    "    transformers=[\n",
    "        ('url', TfidfVectorizer(analyzer=\"char_wb\", ngram_range=(2, 4), min_df=3, max_df=0.75), 'url'),\n",
    "        ('title', CountVectorizer(), 'title')\n",
    "    ])"
   ]
  },
  {
   "cell_type": "code",
   "execution_count": 215,
   "id": "a264af01",
   "metadata": {},
   "outputs": [],
   "source": [
    "X_train_preprocessed = preprocessor.fit_transform(X_train)\n",
    "test_preprocessed = preprocessor.transform(test)"
   ]
  },
  {
   "cell_type": "markdown",
   "id": "83026371",
   "metadata": {},
   "source": [
    "**Логистическая регрессия с поборанными гиперпараметрами**"
   ]
  },
  {
   "cell_type": "code",
   "execution_count": 216,
   "id": "527f2181",
   "metadata": {},
   "outputs": [],
   "source": [
    "model = LogisticRegression(C=1, solver='lbfgs', class_weight='balanced', max_iter=2000)\n",
    "model.fit(X_train_preprocessed, y_train)\n",
    "y_pred = model.predict(test_preprocessed)"
   ]
  },
  {
   "cell_type": "markdown",
   "id": "32d14a5f",
   "metadata": {},
   "source": [
    "**Реализую гипотезу об отнесении сайта к положительному классу, при вхождении в его title 'плохих слов'**"
   ]
  },
  {
   "cell_type": "code",
   "execution_count": 217,
   "id": "d1fa5bc7",
   "metadata": {},
   "outputs": [],
   "source": [
    "bad_words = []\n",
    "with open('words.txt', 'r', encoding='utf-8') as file:\n",
    "    for line in file:\n",
    "        bad_words.append(line.strip())"
   ]
  },
  {
   "cell_type": "code",
   "execution_count": 218,
   "id": "3e4a21b1",
   "metadata": {},
   "outputs": [],
   "source": [
    "for i, url in enumerate(test['url']):\n",
    "    for word in bad_words:\n",
    "        if word in url:\n",
    "            y_pred[i] = 1"
   ]
  },
  {
   "cell_type": "code",
   "execution_count": 219,
   "id": "e9fdf28a",
   "metadata": {},
   "outputs": [],
   "source": [
    "for i, title in enumerate(test['title']):\n",
    "    for word in bad_words:\n",
    "        if word in title:\n",
    "            y_pred[i] = 1"
   ]
  },
  {
   "cell_type": "code",
   "execution_count": 220,
   "id": "d468f440",
   "metadata": {
    "scrolled": true
   },
   "outputs": [
    {
     "data": {
      "text/html": [
       "<div>\n",
       "<style scoped>\n",
       "    .dataframe tbody tr th:only-of-type {\n",
       "        vertical-align: middle;\n",
       "    }\n",
       "\n",
       "    .dataframe tbody tr th {\n",
       "        vertical-align: top;\n",
       "    }\n",
       "\n",
       "    .dataframe thead th {\n",
       "        text-align: right;\n",
       "    }\n",
       "</style>\n",
       "<table border=\"1\" class=\"dataframe\">\n",
       "  <thead>\n",
       "    <tr style=\"text-align: right;\">\n",
       "      <th></th>\n",
       "      <th>ID</th>\n",
       "      <th>label</th>\n",
       "    </tr>\n",
       "  </thead>\n",
       "  <tbody>\n",
       "    <tr>\n",
       "      <th>0</th>\n",
       "      <td>135309</td>\n",
       "      <td>0</td>\n",
       "    </tr>\n",
       "    <tr>\n",
       "      <th>1</th>\n",
       "      <td>135310</td>\n",
       "      <td>0</td>\n",
       "    </tr>\n",
       "    <tr>\n",
       "      <th>2</th>\n",
       "      <td>135311</td>\n",
       "      <td>0</td>\n",
       "    </tr>\n",
       "    <tr>\n",
       "      <th>3</th>\n",
       "      <td>135312</td>\n",
       "      <td>1</td>\n",
       "    </tr>\n",
       "    <tr>\n",
       "      <th>4</th>\n",
       "      <td>135313</td>\n",
       "      <td>0</td>\n",
       "    </tr>\n",
       "  </tbody>\n",
       "</table>\n",
       "</div>"
      ],
      "text/plain": [
       "       ID  label\n",
       "0  135309      0\n",
       "1  135310      0\n",
       "2  135311      0\n",
       "3  135312      1\n",
       "4  135313      0"
      ]
     },
     "execution_count": 220,
     "metadata": {},
     "output_type": "execute_result"
    }
   ],
   "source": [
    "submission = pd.DataFrame({'ID':test.reset_index()['ID'], 'label':y_pred})\n",
    "submission.head()"
   ]
  },
  {
   "cell_type": "code",
   "execution_count": 221,
   "id": "b6ca5ed0",
   "metadata": {},
   "outputs": [],
   "source": [
    "submission.to_csv('submission.csv', index=False)"
   ]
  },
  {
   "cell_type": "code",
   "execution_count": null,
   "id": "39a2b17c",
   "metadata": {},
   "outputs": [],
   "source": []
  }
 ],
 "metadata": {
  "kernelspec": {
   "display_name": "Python 3 (ipykernel)",
   "language": "python",
   "name": "python3"
  },
  "language_info": {
   "codemirror_mode": {
    "name": "ipython",
    "version": 3
   },
   "file_extension": ".py",
   "mimetype": "text/x-python",
   "name": "python",
   "nbconvert_exporter": "python",
   "pygments_lexer": "ipython3",
   "version": "3.10.9"
  }
 },
 "nbformat": 4,
 "nbformat_minor": 5
}
