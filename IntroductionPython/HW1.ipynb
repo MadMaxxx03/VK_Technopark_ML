{
 "cells": [
  {
   "cell_type": "code",
   "execution_count": 1,
   "id": "25a501db",
   "metadata": {},
   "outputs": [
    {
     "data": {
      "text/plain": [
       "'\\nНеобходимо написать программу, которая будет принимать на вход строку, \\nразбивать строку на слова по пробелу.\\nДалее нужно из всех слов убрать следующие пунктуационные знаки: !,.?;:#$%^&*(),\\nа также привести слова к нижнему регистру. \\nВ итоге нужно вывести в алфавитном порядке слова, которые состоят как минимум из 5 символов, \\nа также имеют как минимум 4 уникальных символа, и которые встретились в исходном тексте более 2х раз.\\n'"
      ]
     },
     "execution_count": 1,
     "metadata": {},
     "output_type": "execute_result"
    }
   ],
   "source": [
    "'''\n",
    "Необходимо написать программу, которая будет принимать на вход строку, \n",
    "разбивать строку на слова по пробелу.\n",
    "Далее нужно из всех слов убрать следующие пунктуационные знаки: !,.?;:#$%^&*(),\n",
    "а также привести слова к нижнему регистру. \n",
    "В итоге нужно вывести в алфавитном порядке слова, которые состоят как минимум из 5 символов, \n",
    "а также имеют как минимум 4 уникальных символа, и которые встретились в исходном тексте более 2х раз.\n",
    "'''"
   ]
  },
  {
   "cell_type": "code",
   "execution_count": 17,
   "id": "0578809c",
   "metadata": {},
   "outputs": [
    {
     "name": "stdout",
     "output_type": "stream",
     "text": [
      "Strings implement all of the common sequence operations, along with the additional methods described below. Strings also support two styles of string formatting, one providing a large degree of flexibility and customization (see str.format(), Format String Syntax and Custom String Formatting) and the other based on C printf style formatting that handles a narrower range of types and is slightly harder to use correctly, but is often faster for the cases it can handle (printf-style String Formatting). The Text Processing Services section of the standard library covers a number of other modules that provide various text related utilities (including regular expression support in the re module).\n",
      "formatting\n",
      "string\n"
     ]
    }
   ],
   "source": [
    "s = str(input()).lower()\n",
    "sym_to_remove = ['!', ',', '.', '?', ';', ':', '#', '$', '%', '^', '&', '*', '(', ')', ',']\n",
    "s = ''.join(char for char in s if char not in sym_to_remove).split()\n",
    "s.sort()\n",
    "words = []\n",
    "for word in s:\n",
    "    if len(word) >= 5 and s.count(word) > 2:\n",
    "        letters = []\n",
    "        for letter in word:\n",
    "            if letter not in letters:\n",
    "                letters.append(letter)\n",
    "        if len(letters) >= 4:\n",
    "            if word not in words:\n",
    "                words.append(word)\n",
    "                print(word)"
   ]
  },
  {
   "cell_type": "code",
   "execution_count": null,
   "id": "c6f6857e",
   "metadata": {},
   "outputs": [],
   "source": []
  }
 ],
 "metadata": {
  "kernelspec": {
   "display_name": "Python 3 (ipykernel)",
   "language": "python",
   "name": "python3"
  },
  "language_info": {
   "codemirror_mode": {
    "name": "ipython",
    "version": 3
   },
   "file_extension": ".py",
   "mimetype": "text/x-python",
   "name": "python",
   "nbconvert_exporter": "python",
   "pygments_lexer": "ipython3",
   "version": "3.10.9"
  }
 },
 "nbformat": 4,
 "nbformat_minor": 5
}
