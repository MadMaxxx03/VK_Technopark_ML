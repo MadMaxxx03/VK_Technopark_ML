{
 "cells": [
  {
   "cell_type": "code",
   "execution_count": 8,
   "id": "1c8bb084",
   "metadata": {},
   "outputs": [
    {
     "name": "stdout",
     "output_type": "stream",
     "text": [
      "14.13\n"
     ]
    }
   ],
   "source": [
    "# 17a\n",
    "class Circle:\n",
    "    _pi = 3.14\n",
    "\n",
    "    def __init__(self, radius):\n",
    "        self._radius = radius\n",
    "\n",
    "    @property\n",
    "    def radius(self):\n",
    "        return self._radius\n",
    "\n",
    "    @property\n",
    "    def pi(self):\n",
    "        return self._pi\n",
    "\n",
    "    def calculate_area(self):\n",
    "        return self._pi * self._radius ** 2\n",
    "\n",
    "\n",
    "class SemiCircle(Circle):\n",
    "    def calculate_area(self):\n",
    "        return super().calculate_area() / 2\n",
    "\n",
    "semi_circle = SemiCircle(3)\n",
    "print(semi_circle.calculate_area())\n"
   ]
  },
  {
   "cell_type": "code",
   "execution_count": 13,
   "id": "b9567295",
   "metadata": {},
   "outputs": [
    {
     "name": "stdout",
     "output_type": "stream",
     "text": [
      "12.56\n"
     ]
    }
   ],
   "source": [
    "# 17b\n",
    "class Circle:\n",
    "    _pi = 3.14\n",
    "\n",
    "    def __init__(self, radius):\n",
    "        self._radius = radius\n",
    "\n",
    "    @property\n",
    "    def radius(self):\n",
    "        return self._radius\n",
    "\n",
    "    @property\n",
    "    def pi(self):\n",
    "        return self._pi\n",
    "\n",
    "    def calculate_area(self):\n",
    "        return self._pi * self._radius ** 2\n",
    "\n",
    "\n",
    "\n",
    "class CalculateCircleLengthMixin:\n",
    "    def calculate_length(self):\n",
    "        return 2 * self.pi * self.radius\n",
    "\n",
    "\n",
    "class CircleWithMixin(CalculateCircleLengthMixin, Circle):\n",
    "    pass\n"
   ]
  },
  {
   "cell_type": "code",
   "execution_count": null,
   "id": "0f8cf371",
   "metadata": {},
   "outputs": [],
   "source": [
    "class ContextDictionary:\n",
    "    def __init__(self):\n",
    "        self.dictionary = None\n",
    "\n",
    "    def __enter__(self):\n",
    "        self.dictionary = {}\n",
    "\n",
    "    def __exit__(self, exc_type, exc_val, exc_tb):\n",
    "        self.dictionary = None\n",
    "\n",
    "    def put(self, key, value):\n",
    "        self.dictionary[key] = value\n",
    "\n",
    "    def get(self, key):\n",
    "        return self.dictionary[key]\n",
    "\n",
    "code = []\n",
    "while data := input():\n",
    "    code.append(data)\n",
    "code = \"\\n\".join(code)\n",
    "exec(code)"
   ]
  }
 ],
 "metadata": {
  "kernelspec": {
   "display_name": "Python 3 (ipykernel)",
   "language": "python",
   "name": "python3"
  },
  "language_info": {
   "codemirror_mode": {
    "name": "ipython",
    "version": 3
   },
   "file_extension": ".py",
   "mimetype": "text/x-python",
   "name": "python",
   "nbconvert_exporter": "python",
   "pygments_lexer": "ipython3",
   "version": "3.9.13"
  }
 },
 "nbformat": 4,
 "nbformat_minor": 5
}
