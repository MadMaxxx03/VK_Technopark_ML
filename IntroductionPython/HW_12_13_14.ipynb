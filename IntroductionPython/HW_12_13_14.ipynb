{
 "cells": [
  {
   "cell_type": "code",
   "execution_count": null,
   "id": "62e1dc69",
   "metadata": {},
   "outputs": [],
   "source": [
    "# 12a\n",
    "import os\n",
    "file_path = os.path.join(os.path.abspath('/tmp'),'my_file')\n",
    "text = input()\n",
    "def write_and_read(text):\n",
    "    with open(file_path, 'w') as file:\n",
    "        file.write(text)\n",
    "\n",
    "    with open(file_path, 'r') as file:\n",
    "        read_text = file.read()\n",
    "    file.close()\n",
    "    return read_text\n",
    "\n",
    "print(write_and_read(text))"
   ]
  },
  {
   "cell_type": "code",
   "execution_count": 5,
   "id": "a36daf80",
   "metadata": {},
   "outputs": [
    {
     "name": "stdout",
     "output_type": "stream",
     "text": [
      "1\n",
      "0\n",
      "1\n"
     ]
    }
   ],
   "source": [
    "# 12b\n",
    "numerator, denominator = int(input()), int(input())\n",
    "\n",
    "def changed_div(numerator, denominator):\n",
    "    try:\n",
    "        return numerator/denominator\n",
    "    except:\n",
    "        return numerator\n",
    "\n",
    "print(changed_div(numerator, denominator))"
   ]
  },
  {
   "cell_type": "code",
   "execution_count": 8,
   "id": "401c6724",
   "metadata": {},
   "outputs": [
    {
     "name": "stdout",
     "output_type": "stream",
     "text": [
      "{'Sales': ['John Doe', 'Martin Smith'], 'Accounting': ['Jane Doe'], 'Marketing': ['Elizabeth Smith', 'Adam Doe']}\n"
     ]
    }
   ],
   "source": [
    "# 13a\n",
    "from collections import defaultdict\n",
    "from typing import List, Tuple\n",
    "\n",
    "def fill_specializations(specializations: List[Tuple[str, str]]) -> dict:\n",
    "    specialization_dict = defaultdict(list)\n",
    "    \n",
    "    for specialization, name in specializations:\n",
    "        specialization_dict[specialization].append(name)\n",
    "    \n",
    "    return dict(specialization_dict)\n",
    "\n",
    "code = []\n",
    "while data := input():\n",
    "    code.append(data)\n",
    "code = \"\\n\".join(code)\n",
    "exec(code)"
   ]
  },
  {
   "cell_type": "code",
   "execution_count": 1,
   "id": "264476b0",
   "metadata": {},
   "outputs": [
    {
     "name": "stdout",
     "output_type": "stream",
     "text": [
      "print(fill_missing_values([1, 2, 3], [2, 3, 4, 5]))\n",
      "\n",
      "[(1, 2), (2, 3), (3, 4), (1, 5)]\n"
     ]
    }
   ],
   "source": [
    "# 13b\n",
    "from itertools import zip_longest\n",
    "from typing import List, Tuple\n",
    "\n",
    "def fill_missing_values(values_list_1: List[int], values_list_2: List[int]) -> List[Tuple[int, int]]:\n",
    "    filled_values = zip_longest(values_list_1, values_list_2, fillvalue=1)\n",
    "    filled_values_list = list(filled_values)\n",
    "    return filled_values_list\n",
    "\n",
    "code = []\n",
    "while data := input():\n",
    "    code.append(data)\n",
    "code = \"\\n\".join(code)\n",
    "exec(code)"
   ]
  },
  {
   "cell_type": "code",
   "execution_count": 15,
   "id": "c3a6d0e8",
   "metadata": {},
   "outputs": [
    {
     "name": "stdout",
     "output_type": "stream",
     "text": [
      "1\n",
      "787\n",
      "(2, 7)\n"
     ]
    }
   ],
   "source": [
    "# 14a\n",
    "import datetime\n",
    "\n",
    "days, seconds = int(input()), int(input())\n",
    "\n",
    "def shift_time(days: int, seconds: int) -> tuple:\n",
    "    base_datetime = datetime.datetime(2023, 1, 1, 12, 30, 0)\n",
    "    \n",
    "    shift = datetime.timedelta(days=days, seconds=seconds)\n",
    "    \n",
    "    shifted_datetime = base_datetime + shift\n",
    "    \n",
    "    shifted_day = shifted_datetime.day\n",
    "    shifted_sec = shifted_datetime.second\n",
    "    \n",
    "    return shifted_day, shifted_sec\n",
    "\n",
    "print(shift_time(days, seconds))"
   ]
  },
  {
   "cell_type": "code",
   "execution_count": 14,
   "id": "1be961d4",
   "metadata": {},
   "outputs": [
    {
     "name": "stdout",
     "output_type": "stream",
     "text": [
      "2023 03 03 12 30 00\n",
      "4\n"
     ]
    }
   ],
   "source": [
    "# 14B\n",
    "import datetime\n",
    "\n",
    "string_datetime = input()\n",
    "\n",
    "def parse_time(s: str) -> int:\n",
    "    parsed_datetime = datetime.datetime.strptime(s, \"%Y %m %d %H %M %S\")\n",
    "    \n",
    "    shifted_datetime = parsed_datetime + datetime.timedelta(days=1)\n",
    "    \n",
    "    shifted_day = shifted_datetime.day\n",
    "    \n",
    "    return shifted_day\n",
    "\n",
    "print(parse_time(string_datetime))"
   ]
  },
  {
   "cell_type": "code",
   "execution_count": null,
   "id": "cf72a2e0",
   "metadata": {},
   "outputs": [],
   "source": []
  }
 ],
 "metadata": {
  "kernelspec": {
   "display_name": "Python 3 (ipykernel)",
   "language": "python",
   "name": "python3"
  },
  "language_info": {
   "codemirror_mode": {
    "name": "ipython",
    "version": 3
   },
   "file_extension": ".py",
   "mimetype": "text/x-python",
   "name": "python",
   "nbconvert_exporter": "python",
   "pygments_lexer": "ipython3",
   "version": "3.9.13"
  }
 },
 "nbformat": 4,
 "nbformat_minor": 5
}
