{
 "cells": [
  {
   "cell_type": "code",
   "execution_count": 7,
   "id": "7324994a",
   "metadata": {},
   "outputs": [
    {
     "name": "stdout",
     "output_type": "stream",
     "text": [
      "2 2\n",
      "2.0\n",
      "2 2 3\n",
      "2.33\n",
      "\n"
     ]
    }
   ],
   "source": [
    "# 6a\n",
    "def avg(s):\n",
    "    s = list(map(int, s.split()))\n",
    "    print(round(sum(s)/len(s), 2))\n",
    "while s:=input():\n",
    "    avg(s)"
   ]
  },
  {
   "cell_type": "code",
   "execution_count": 11,
   "id": "018fdea4",
   "metadata": {},
   "outputs": [
    {
     "name": "stdout",
     "output_type": "stream",
     "text": [
      "Hello World! !Python programming language\n",
      "hello world python programming language\n",
      "\n"
     ]
    }
   ],
   "source": [
    "# 6b\n",
    "def formatStr(s):\n",
    "    if (s[0] == '!'):\n",
    "        s = s.upper()\n",
    "    else:\n",
    "        s = s.lower()\n",
    "    s = s.replace('!','').replace('@','').replace('#','').replace('%','')\n",
    "    print(s)\n",
    "while s:=input():\n",
    "        formatStr(s)"
   ]
  },
  {
   "cell_type": "code",
   "execution_count": 10,
   "id": "7636107b",
   "metadata": {},
   "outputs": [
    {
     "name": "stdout",
     "output_type": "stream",
     "text": [
      "1 10 1\n",
      "1\n",
      "-2\n",
      "9\n",
      "-4\n",
      "25\n",
      "-6\n",
      "49\n",
      "-8\n",
      "81\n"
     ]
    }
   ],
   "source": [
    "# 7a\n",
    "res = list(map(lambda x: x**2 if x % 2 == 1 else -x, range(*map(int, input().split()))))\n",
    "for el in res:\n",
    "    print(el)"
   ]
  },
  {
   "cell_type": "code",
   "execution_count": 22,
   "id": "c24248d3",
   "metadata": {},
   "outputs": [
    {
     "name": "stdout",
     "output_type": "stream",
     "text": [
      "4\n",
      "3\n"
     ]
    }
   ],
   "source": [
    "# 7b\n",
    "def fibonacci(n):\n",
    "    a, b = 0, 1\n",
    "    for _ in range(2, n + 1):\n",
    "        a, b = b, a + b\n",
    "    return b if n > 0 else a\n",
    "\n",
    "print(fibonacci(int(input())))\n"
   ]
  },
  {
   "cell_type": "code",
   "execution_count": null,
   "id": "19708b25",
   "metadata": {},
   "outputs": [],
   "source": []
  }
 ],
 "metadata": {
  "kernelspec": {
   "display_name": "Python 3 (ipykernel)",
   "language": "python",
   "name": "python3"
  },
  "language_info": {
   "codemirror_mode": {
    "name": "ipython",
    "version": 3
   },
   "file_extension": ".py",
   "mimetype": "text/x-python",
   "name": "python",
   "nbconvert_exporter": "python",
   "pygments_lexer": "ipython3",
   "version": "3.10.9"
  }
 },
 "nbformat": 4,
 "nbformat_minor": 5
}
