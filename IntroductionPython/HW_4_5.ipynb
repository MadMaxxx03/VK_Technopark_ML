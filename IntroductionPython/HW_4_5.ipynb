{
 "cells": [
  {
   "cell_type": "code",
   "execution_count": 22,
   "id": "ac3e9fcd",
   "metadata": {},
   "outputs": [
    {
     "name": "stdout",
     "output_type": "stream",
     "text": [
      "wed wed e dede\n",
      "2.75\n"
     ]
    }
   ],
   "source": [
    "# 4a\n",
    "s = str(input()).split()\n",
    "print(round(sum(len(word) for word in s)/len(s), 2))"
   ]
  },
  {
   "cell_type": "code",
   "execution_count": 16,
   "id": "f6e5677a",
   "metadata": {},
   "outputs": [
    {
     "name": "stdout",
     "output_type": "stream",
     "text": [
      "2\n",
      "2 3\n",
      "4 5\n",
      "5;3\n"
     ]
    }
   ],
   "source": [
    "# 4b\n",
    "n = int(input())\n",
    "m = []\n",
    "for i in range(n):\n",
    "    dem = list(map(int, input().split()))\n",
    "    m.append(max(dem))\n",
    "m.sort(reverse=True)\n",
    "print(';'.join(map(str, m)))"
   ]
  },
  {
   "cell_type": "code",
   "execution_count": 15,
   "id": "8d56c784",
   "metadata": {},
   "outputs": [
    {
     "name": "stdout",
     "output_type": "stream",
     "text": [
      "Hello World!\n",
      "! d e h l o r w\n"
     ]
    }
   ],
   "source": [
    "# 5a\n",
    "s = str(input()).lower().replace(\" \", \"\")\n",
    "m = []\n",
    "for l in s:\n",
    "    if l not in m:\n",
    "        m.append(l)\n",
    "m.sort()\n",
    "print(\" \".join([char for char in m]))"
   ]
  },
  {
   "cell_type": "code",
   "execution_count": 25,
   "id": "56e98917",
   "metadata": {},
   "outputs": [
    {
     "name": "stdout",
     "output_type": "stream",
     "text": [
      "Hello hello world\n",
      "{'hello': 2, 'world': 1}\n"
     ]
    }
   ],
   "source": [
    "# 5b\n",
    "s = input().lower().split()\n",
    "d = {}\n",
    "for w in s:\n",
    "    if w not in d:\n",
    "        d[str(w)] = 1\n",
    "    else:\n",
    "        d[str(w)] += 1\n",
    "print(d)"
   ]
  },
  {
   "cell_type": "code",
   "execution_count": 17,
   "id": "6deefb51",
   "metadata": {},
   "outputs": [
    {
     "data": {
      "text/plain": [
       "['Hello', 'hello', 'world']"
      ]
     },
     "execution_count": 17,
     "metadata": {},
     "output_type": "execute_result"
    }
   ],
   "source": []
  },
  {
   "cell_type": "code",
   "execution_count": null,
   "id": "5dde0507",
   "metadata": {},
   "outputs": [],
   "source": []
  }
 ],
 "metadata": {
  "kernelspec": {
   "display_name": "Python 3 (ipykernel)",
   "language": "python",
   "name": "python3"
  },
  "language_info": {
   "codemirror_mode": {
    "name": "ipython",
    "version": 3
   },
   "file_extension": ".py",
   "mimetype": "text/x-python",
   "name": "python",
   "nbconvert_exporter": "python",
   "pygments_lexer": "ipython3",
   "version": "3.9.13"
  }
 },
 "nbformat": 4,
 "nbformat_minor": 5
}
