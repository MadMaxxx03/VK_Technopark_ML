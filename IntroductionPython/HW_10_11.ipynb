{
 "cells": [
  {
   "cell_type": "code",
   "execution_count": 2,
   "id": "23ebdcf2",
   "metadata": {},
   "outputs": [
    {
     "name": "stdout",
     "output_type": "stream",
     "text": [
      "1\n",
      "11\n"
     ]
    }
   ],
   "source": [
    "# 10a\n",
    "a = int(input())\n",
    "\n",
    "def f():\n",
    "    global a\n",
    "    a += 10\n",
    "f()\n",
    "\n",
    "print(a) "
   ]
  },
  {
   "cell_type": "code",
   "execution_count": 3,
   "id": "0d62c4ce",
   "metadata": {},
   "outputs": [
    {
     "name": "stdout",
     "output_type": "stream",
     "text": [
      "1\n",
      "11\n"
     ]
    }
   ],
   "source": [
    "# 10b\n",
    "def g():\n",
    "    b = int(input())\n",
    "    def h():\n",
    "        nonlocal  b\n",
    "        b += 10\n",
    "    h()\n",
    "    print(b)\n",
    "g()"
   ]
  },
  {
   "cell_type": "code",
   "execution_count": 10,
   "id": "74fc2cda",
   "metadata": {},
   "outputs": [
    {
     "name": "stdout",
     "output_type": "stream",
     "text": [
      "d = {0:1, 1:2, 2:3, 3:4, 4:5}\n",
      "print(make_most_common_keys(d))\n",
      "\n",
      "[4, 3, 2, 1, 0]\n"
     ]
    }
   ],
   "source": [
    "# 11a\n",
    "from typing import List, Dict\n",
    "\n",
    "def make_most_common_keys(d: Dict[int, int]) -> List[int]:\n",
    "    return (sorted(d, key=lambda x: d[x], reverse=True))\n",
    "\n",
    "code = []\n",
    "while data := input():\n",
    "    code.append(data)\n",
    "code = \"\\n\".join(code)\n",
    "exec(code)"
   ]
  },
  {
   "cell_type": "code",
   "execution_count": 13,
   "id": "52e63a5e",
   "metadata": {},
   "outputs": [
    {
     "name": "stdout",
     "output_type": "stream",
     "text": [
      "print(get_indexes([1,1], [2,1]))\n",
      "\n",
      "[0]\n"
     ]
    }
   ],
   "source": [
    "# 11b\n",
    "from typing import List\n",
    "\n",
    "def get_indexes(nums1: List[int], nums2: List[int]) -> List[int]:\n",
    "    idxs = []\n",
    "    for i, (el1, el2) in enumerate(zip(nums1, nums2)):\n",
    "        if el1 < el2:\n",
    "            idxs.append(i)\n",
    "    return idxs\n",
    "code = []\n",
    "while data := input():\n",
    "    code.append(data)\n",
    "code = \"\\n\".join(code)\n",
    "exec(code)"
   ]
  },
  {
   "cell_type": "code",
   "execution_count": null,
   "id": "8c8d2958",
   "metadata": {},
   "outputs": [],
   "source": []
  },
  {
   "cell_type": "code",
   "execution_count": null,
   "id": "476eb0d8",
   "metadata": {},
   "outputs": [],
   "source": []
  }
 ],
 "metadata": {
  "kernelspec": {
   "display_name": "Python 3 (ipykernel)",
   "language": "python",
   "name": "python3"
  },
  "language_info": {
   "codemirror_mode": {
    "name": "ipython",
    "version": 3
   },
   "file_extension": ".py",
   "mimetype": "text/x-python",
   "name": "python",
   "nbconvert_exporter": "python",
   "pygments_lexer": "ipython3",
   "version": "3.9.13"
  }
 },
 "nbformat": 4,
 "nbformat_minor": 5
}
