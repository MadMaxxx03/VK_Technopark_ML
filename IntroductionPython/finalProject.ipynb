{
 "cells": [
  {
   "cell_type": "code",
   "execution_count": 4,
   "id": "67e346f3",
   "metadata": {},
   "outputs": [],
   "source": [
    "from typing import List\n",
    "from collections import defaultdict, deque\n",
    "import heapq\n",
    "\n",
    "class Twitter:\n",
    "\n",
    "    def __init__(self):\n",
    "        self.time = 0\n",
    "        self.tweets = defaultdict(deque)  \n",
    "        self.following = defaultdict(set)  \n",
    "        self.MAX_FEED_SIZE = 10 \n",
    "\n",
    "    def post_tweet(self, user_id: int, tweet_id: int):\n",
    "        self.tweets[user_id].appendleft((self.time, tweet_id))\n",
    "        self.time += 1\n",
    "\n",
    "    def get_news_feed(self, user_id: int) -> List[int]:\n",
    "        min_heap = []\n",
    "        users_to_check = self.following[user_id] | {user_id} \n",
    "        for user in users_to_check:\n",
    "            if user in self.tweets:\n",
    "                for tweet in self.tweets[user]:\n",
    "                    heapq.heappush(min_heap, tweet)\n",
    "                    if len(min_heap) > self.MAX_FEED_SIZE:\n",
    "                        heapq.heappop(min_heap)\n",
    "        \n",
    "        result = []\n",
    "        while min_heap:\n",
    "            result.append(heapq.heappop(min_heap)[1])\n",
    "        return result[::-1]\n",
    "\n",
    "    def follow(self, follower_id: int, followee_id: int):\n",
    "        if follower_id != followee_id:\n",
    "            self.following[follower_id].add(followee_id)\n",
    "\n",
    "    def unfollow(self, follower_id: int, followee_id: int):\n",
    "        if followee_id in self.following[follower_id]:\n",
    "            self.following[follower_id].remove(followee_id)\n"
   ]
  },
  {
   "cell_type": "code",
   "execution_count": 5,
   "id": "3d95e4a3",
   "metadata": {},
   "outputs": [
    {
     "name": "stdout",
     "output_type": "stream",
     "text": [
      "[18, 17, 16, 15, 13, 12, 11, 10, 5, 8]\n"
     ]
    }
   ],
   "source": [
    "# Пример использования\n",
    "twitter = Twitter()\n",
    "twitter.follow(1, 2)\n",
    "twitter.follow(1, 3)\n",
    "twitter.post_tweet(2, 4)\n",
    "twitter.post_tweet(2, 6)\n",
    "twitter.post_tweet(3, 2)\n",
    "twitter.post_tweet(3, 7)\n",
    "twitter.post_tweet(3, 3)\n",
    "twitter.post_tweet(3, 8)\n",
    "twitter.post_tweet(2, 1)\n",
    "twitter.post_tweet(2, 9)\n",
    "twitter.follow(1, 4)\n",
    "twitter.post_tweet(4, 5)\n",
    "twitter.post_tweet(4, 10)\n",
    "twitter.unfollow(1, 2)\n",
    "twitter.post_tweet(5, 11)\n",
    "twitter.post_tweet(5, 12)\n",
    "twitter.post_tweet(5, 13)\n",
    "twitter.post_tweet(6, 14)\n",
    "twitter.follow(1, 5)\n",
    "twitter.post_tweet(7, 15)\n",
    "twitter.post_tweet(7, 16)\n",
    "twitter.post_tweet(7, 17)\n",
    "twitter.post_tweet(7, 18)\n",
    "twitter.follow(1, 7)\n",
    "print(twitter.get_news_feed(1))  # [18, 17, 16, 15, 13, 12, 11, 10, 5, 8]"
   ]
  },
  {
   "cell_type": "code",
   "execution_count": null,
   "id": "4f5d856f",
   "metadata": {},
   "outputs": [],
   "source": []
  }
 ],
 "metadata": {
  "kernelspec": {
   "display_name": "Python 3 (ipykernel)",
   "language": "python",
   "name": "python3"
  },
  "language_info": {
   "codemirror_mode": {
    "name": "ipython",
    "version": 3
   },
   "file_extension": ".py",
   "mimetype": "text/x-python",
   "name": "python",
   "nbconvert_exporter": "python",
   "pygments_lexer": "ipython3",
   "version": "3.9.13"
  }
 },
 "nbformat": 4,
 "nbformat_minor": 5
}
