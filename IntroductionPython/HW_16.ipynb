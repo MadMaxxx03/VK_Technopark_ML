{
 "cells": [
  {
   "cell_type": "code",
   "execution_count": 25,
   "id": "c2bc4cba",
   "metadata": {},
   "outputs": [
    {
     "name": "stdout",
     "output_type": "stream",
     "text": [
      "person = Person(18)\n",
      "person.age = 19\n",
      "print(person.age)\n",
      "\n",
      "19\n"
     ]
    }
   ],
   "source": [
    "# 16a\n",
    "class Person:\n",
    "    def __init__(self, age):\n",
    "        self._age = age if age > 0 else 0\n",
    "        \n",
    "    @property\n",
    "    def age(self):\n",
    "        return self._age\n",
    "\n",
    "    @age.setter\n",
    "    def age(self, value):\n",
    "        self._age = value if value > 0 else 0\n",
    "\n",
    "code = []\n",
    "while data := input():\n",
    "    code.append(data)\n",
    "code = \"\\n\".join(code)\n",
    "exec(code)"
   ]
  },
  {
   "cell_type": "code",
   "execution_count": 26,
   "id": "0789e06a",
   "metadata": {},
   "outputs": [
    {
     "name": "stdout",
     "output_type": "stream",
     "text": [
      "6.28\n"
     ]
    }
   ],
   "source": [
    "# 16b\n",
    "class Pendulum:\n",
    "    g = 10\n",
    "    pi = 3.14\n",
    "\n",
    "    @classmethod\n",
    "    def calculate_period(cls, length):\n",
    "        period = 2 * cls.pi * (length / cls.g) ** 0.5\n",
    "        return period\n",
    "    \n",
    "print(Pendulum.calculate_period(10))"
   ]
  },
  {
   "cell_type": "code",
   "execution_count": null,
   "id": "ab7c0058",
   "metadata": {},
   "outputs": [],
   "source": []
  }
 ],
 "metadata": {
  "kernelspec": {
   "display_name": "Python 3 (ipykernel)",
   "language": "python",
   "name": "python3"
  },
  "language_info": {
   "codemirror_mode": {
    "name": "ipython",
    "version": 3
   },
   "file_extension": ".py",
   "mimetype": "text/x-python",
   "name": "python",
   "nbconvert_exporter": "python",
   "pygments_lexer": "ipython3",
   "version": "3.9.13"
  }
 },
 "nbformat": 4,
 "nbformat_minor": 5
}
