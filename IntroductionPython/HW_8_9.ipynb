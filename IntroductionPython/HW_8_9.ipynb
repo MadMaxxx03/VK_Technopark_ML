{
 "cells": [
  {
   "cell_type": "code",
   "execution_count": 4,
   "id": "9c779948",
   "metadata": {},
   "outputs": [
    {
     "name": "stdout",
     "output_type": "stream",
     "text": [
      "lambda x: x ** 2\n",
      "range(-10, 11, 5)\n",
      "100\n",
      "25\n",
      "0\n",
      "25\n",
      "100\n"
     ]
    }
   ],
   "source": [
    "# 8a\n",
    "def map(func, seq):\n",
    "    for el in seq:\n",
    "        yield func(el)\n",
    "\n",
    "func_in, seq_in = eval(input()), eval(input())\n",
    "\n",
    "for x in map(func_in, seq_in):\n",
    "    print(x)"
   ]
  },
  {
   "cell_type": "code",
   "execution_count": 6,
   "id": "bb3b8336",
   "metadata": {},
   "outputs": [
    {
     "name": "stdout",
     "output_type": "stream",
     "text": [
      "lambda x: x > 0 \n",
      "(1, 2, 0, 3, -1, -2, 5)\n",
      "1\n",
      "2\n",
      "3\n",
      "5\n"
     ]
    }
   ],
   "source": [
    "# 8b\n",
    "def filter(func, seq):\n",
    "    for el in seq:\n",
    "        if func(el):\n",
    "            yield el\n",
    "\n",
    "func_in, seq_in = eval(input()), eval(input())\n",
    "\n",
    "for x in filter(func_in, seq_in):\n",
    "    print(x)"
   ]
  },
  {
   "cell_type": "code",
   "execution_count": 8,
   "id": "64715913",
   "metadata": {},
   "outputs": [
    {
     "name": "stdout",
     "output_type": "stream",
     "text": [
      "@cache_deco\n",
      "def fib(k):\n",
      "    if k <= 2:\n",
      "        return 1\n",
      "    return fib(k - 1) + fib(k - 2)\n",
      "print(fib(30))\n",
      "\n",
      "832040\n"
     ]
    }
   ],
   "source": [
    "# 9a\n",
    "def cache_deco(func):\n",
    "    cache = {}\n",
    "\n",
    "    def wrapper(*args):\n",
    "        if args in cache:\n",
    "            return cache[args]\n",
    "        result = func(*args)\n",
    "        cache[args] = result\n",
    "        return result\n",
    "\n",
    "    return wrapper\n",
    "\n",
    "code = []\n",
    "while data := input():\n",
    "    code.append(data)\n",
    "code = \"\\n\".join(code)\n",
    "exec(code) "
   ]
  },
  {
   "cell_type": "code",
   "execution_count": null,
   "id": "5ed78672",
   "metadata": {},
   "outputs": [],
   "source": [
    "# 9b\n",
    "def repeat_deco(n=1):\n",
    "    def decorator(func):\n",
    "        def wrapper(*args, **kwargs):\n",
    "            result = None\n",
    "            for _ in range(n):\n",
    "                result = func(*args, **kwargs)\n",
    "            return result\n",
    "        return wrapper\n",
    "    return decorator\n",
    "\n",
    "code = []\n",
    "while data := input():\n",
    "    code.append(data)\n",
    "code = \"\\n\".join(code)\n",
    "exec(code)"
   ]
  },
  {
   "cell_type": "code",
   "execution_count": null,
   "id": "0b042364",
   "metadata": {},
   "outputs": [],
   "source": [
    "@repeat_deco(n=3)\n",
    "def add(seq, val):\n",
    "    seq.append(val)\n",
    "    return seq\n",
    "print(add([], 1))"
   ]
  }
 ],
 "metadata": {
  "kernelspec": {
   "display_name": "Python 3 (ipykernel)",
   "language": "python",
   "name": "python3"
  },
  "language_info": {
   "codemirror_mode": {
    "name": "ipython",
    "version": 3
   },
   "file_extension": ".py",
   "mimetype": "text/x-python",
   "name": "python",
   "nbconvert_exporter": "python",
   "pygments_lexer": "ipython3",
   "version": "3.9.13"
  }
 },
 "nbformat": 4,
 "nbformat_minor": 5
}
