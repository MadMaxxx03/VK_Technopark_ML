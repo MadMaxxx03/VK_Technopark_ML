{
 "cells": [
  {
   "cell_type": "code",
   "execution_count": 4,
   "id": "6014880e",
   "metadata": {},
   "outputs": [
    {
     "name": "stdout",
     "output_type": "stream",
     "text": [
      "[1, 1, 2]\n",
      "Counter({1: 2, 2: 1})\n",
      "[1, 2]\n"
     ]
    }
   ],
   "source": [
    "import datetime\n",
    "from collections import Counter\n",
    "from typing import List\n",
    "\n",
    "def most_common_months(dates: List[str], n: int) -> List[int]:\n",
    "    months = [int(date.split('-')[1]) for date in dates]\n",
    "\n",
    "    month_counter = Counter(months)\n",
    "\n",
    "    most_common = month_counter.most_common(n)\n",
    "    \n",
    "    return [month for month, _ in most_common]\n",
    "\n",
    "dates = [\"2023-01-01T23:59:59\", \"2023-01-01T23:59:59\", \"2023-02-01T23:59:59\"]\n",
    "print(most_common_months(dates, 2))\n"
   ]
  },
  {
   "cell_type": "code",
   "execution_count": null,
   "id": "0fa37ba4",
   "metadata": {},
   "outputs": [],
   "source": []
  }
 ],
 "metadata": {
  "kernelspec": {
   "display_name": "Python 3 (ipykernel)",
   "language": "python",
   "name": "python3"
  },
  "language_info": {
   "codemirror_mode": {
    "name": "ipython",
    "version": 3
   },
   "file_extension": ".py",
   "mimetype": "text/x-python",
   "name": "python",
   "nbconvert_exporter": "python",
   "pygments_lexer": "ipython3",
   "version": "3.10.9"
  }
 },
 "nbformat": 4,
 "nbformat_minor": 5
}
