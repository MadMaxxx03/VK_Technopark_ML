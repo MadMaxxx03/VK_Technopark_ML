{
 "cells": [
  {
   "cell_type": "code",
   "execution_count": 7,
   "id": "7324994a",
   "metadata": {},
   "outputs": [
    {
     "name": "stdout",
     "output_type": "stream",
     "text": [
      "2 2\n",
      "2.0\n",
      "2 2 3\n",
      "2.33\n",
      "\n"
     ]
    }
   ],
   "source": [
    "# 6a\n",
    "def avg(s):\n",
    "    s = list(map(int, s.split()))\n",
    "    print(round(sum(s)/len(s), 2))\n",
    "while s:=input():\n",
    "    avg(s)"
   ]
  },
  {
   "cell_type": "code",
   "execution_count": 11,
   "id": "018fdea4",
   "metadata": {},
   "outputs": [
    {
     "name": "stdout",
     "output_type": "stream",
     "text": [
      "Hello World! !Python programming language\n",
      "hello world python programming language\n",
      "\n"
     ]
    }
   ],
   "source": [
    "# 6b\n",
    "def formatStr(s):\n",
    "    if (s[0] == '!'):\n",
    "        s = s.upper()\n",
    "    else:\n",
    "        s = s.lower()\n",
    "    s = s.replace('!','').replace('@','').replace('#','').replace('%','')\n",
    "    print(s)\n",
    "while s:=input():\n",
    "        formatStr(s)"
   ]
  },
  {
   "cell_type": "code",
   "execution_count": null,
   "id": "7636107b",
   "metadata": {},
   "outputs": [],
   "source": []
  }
 ],
 "metadata": {
  "kernelspec": {
   "display_name": "Python 3 (ipykernel)",
   "language": "python",
   "name": "python3"
  },
  "language_info": {
   "codemirror_mode": {
    "name": "ipython",
    "version": 3
   },
   "file_extension": ".py",
   "mimetype": "text/x-python",
   "name": "python",
   "nbconvert_exporter": "python",
   "pygments_lexer": "ipython3",
   "version": "3.9.13"
  }
 },
 "nbformat": 4,
 "nbformat_minor": 5
}
