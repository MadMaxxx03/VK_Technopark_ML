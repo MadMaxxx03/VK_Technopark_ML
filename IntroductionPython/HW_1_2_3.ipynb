{
 "cells": [
  {
   "cell_type": "code",
   "execution_count": 2,
   "id": "25b9a7ad",
   "metadata": {},
   "outputs": [
    {
     "name": "stdout",
     "output_type": "stream",
     "text": [
      "\n",
      "Hello, \n"
     ]
    }
   ],
   "source": [
    "# 1a\n",
    "print(\"Hello, \" + input())"
   ]
  },
  {
   "cell_type": "code",
   "execution_count": 3,
   "id": "8500bbc0",
   "metadata": {},
   "outputs": [
    {
     "name": "stdout",
     "output_type": "stream",
     "text": [
      "Moscow\n",
      "12:01\n",
      "Current location is Moscow and time is 12:01\n"
     ]
    }
   ],
   "source": [
    "# 1b\n",
    "print(\"Current location is \" + input() + \" and time is \" + input())"
   ]
  },
  {
   "cell_type": "code",
   "execution_count": 25,
   "id": "9b040b08",
   "metadata": {},
   "outputs": [
    {
     "name": "stdout",
     "output_type": "stream",
     "text": [
      "1\n",
      "3\n",
      "1\n",
      "\n",
      "True\n"
     ]
    }
   ],
   "source": [
    "# 2a\n",
    "try:\n",
    "    begin = int(input())\n",
    "    end = int(input())\n",
    "    flag = True\n",
    "    while num := input():\n",
    "        num = int(num)\n",
    "        if num < begin or num > end:\n",
    "            flag = False\n",
    "    print(flag)\n",
    "except EOFError:\n",
    "    print(flag)"
   ]
  },
  {
   "cell_type": "code",
   "execution_count": 22,
   "id": "c67ee81c",
   "metadata": {},
   "outputs": [
    {
     "name": "stdout",
     "output_type": "stream",
     "text": [
      "start\n",
      "True\n"
     ]
    }
   ],
   "source": [
    "# 2b\n",
    "s = str(input())\n",
    "if (\"a\" in s or \"o\" in s) and \"i\" not in s and \"e\" not in s:\n",
    "    print(True)\n",
    "else:\n",
    "    print(False)"
   ]
  },
  {
   "cell_type": "code",
   "execution_count": 66,
   "id": "2b5cce45",
   "metadata": {},
   "outputs": [
    {
     "name": "stdout",
     "output_type": "stream",
     "text": [
      "111\n",
      "1\n",
      "11111111111\n",
      "+000000111\n",
      "######1.00\n",
      "1010_0101_1001_0000\n"
     ]
    }
   ],
   "source": [
    "# 3a\n",
    "n1 = int(input())\n",
    "n2 = float(input())\n",
    "n3 = int(input())\n",
    "print(f\"{n1:0=+10}\")\n",
    "print(f\"{n2:#>10.2f}\")\n",
    "bin_n3 = format(n3, '016b')[-16:]  \n",
    "print('{:0>4}_{:0>4}_{:0>4}_{:0>4}'.format(bin_n3[:4], bin_n3[4:8], bin_n3[8:12], bin_n3[12:]))"
   ]
  },
  {
   "cell_type": "code",
   "execution_count": 73,
   "id": "e175ec57",
   "metadata": {},
   "outputs": [
    {
     "name": "stdout",
     "output_type": "stream",
     "text": [
      "0000_0000_0000_0000\n"
     ]
    }
   ],
   "source": [
    "bin_n3 = format(65536, '016b')[-16:]\n",
    "print('{:0>4}_{:0>4}_{:0>4}_{:0>4}'.format(bin_n3[:4], bin_n3[4:8], bin_n3[8:12], bin_n3[12:]))"
   ]
  },
  {
   "cell_type": "code",
   "execution_count": 30,
   "id": "80d78d28",
   "metadata": {},
   "outputs": [
    {
     "name": "stdout",
     "output_type": "stream",
     "text": [
      "Hello World!@#%\n",
      "4\n",
      "hello world\n"
     ]
    }
   ],
   "source": [
    "# 3b\n",
    "s = str(input())\n",
    "clear_s = ''\n",
    "count = 0\n",
    "for i in range(len(s)):\n",
    "    if s[i] == '!' or s[i] == '%' or s[i] == '#' or s[i] == '@':\n",
    "        count += 1\n",
    "    else:\n",
    "        clear_s += s[i]\n",
    "print(count)\n",
    "print(clear_s.lower())"
   ]
  },
  {
   "cell_type": "code",
   "execution_count": null,
   "id": "de5933b2",
   "metadata": {},
   "outputs": [],
   "source": []
  }
 ],
 "metadata": {
  "kernelspec": {
   "display_name": "Python 3 (ipykernel)",
   "language": "python",
   "name": "python3"
  },
  "language_info": {
   "codemirror_mode": {
    "name": "ipython",
    "version": 3
   },
   "file_extension": ".py",
   "mimetype": "text/x-python",
   "name": "python",
   "nbconvert_exporter": "python",
   "pygments_lexer": "ipython3",
   "version": "3.10.9"
  }
 },
 "nbformat": 4,
 "nbformat_minor": 5
}
