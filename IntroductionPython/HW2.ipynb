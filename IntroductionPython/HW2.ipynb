{
 "cells": [
  {
   "cell_type": "code",
   "execution_count": 24,
   "id": "cfea2a53",
   "metadata": {},
   "outputs": [
    {
     "name": "stdout",
     "output_type": "stream",
     "text": [
      "Call: 1\n",
      "1\n",
      "Call: 2\n",
      "3\n",
      "1\n"
     ]
    }
   ],
   "source": [
    "def cache_deco(func):\n",
    "    cache = {}\n",
    "\n",
    "    def wrapper(*args):\n",
    "        if args in cache:\n",
    "            return cache[args]\n",
    "        result = func(*args)\n",
    "        cache[args] = result\n",
    "        return result\n",
    "\n",
    "    return wrapper\n",
    "\n",
    "\n",
    "def solution(func_map, func_filter, data):\n",
    "    for index, item in enumerate(data):\n",
    "        if func_filter(item):\n",
    "            if index % 2 == 1:\n",
    "                yield func_map(item)\n",
    "\n",
    "def calc():\n",
    "    count = 0\n",
    "\n",
    "    @cache_deco\n",
    "    def calc_(x):\n",
    "        nonlocal count\n",
    "        count += 1\n",
    "        print(\"Call:\", count)\n",
    "        return x\n",
    "\n",
    "    return calc_\n",
    "\n",
    "for i in solution(calc(), lambda x: x % 2 == 1, (1, 1, 2, 2, 2, 3, 1, 2, 3, 1)):\n",
    "    print(i)"
   ]
  },
  {
   "cell_type": "code",
   "execution_count": null,
   "id": "9d4d40c7",
   "metadata": {},
   "outputs": [],
   "source": []
  }
 ],
 "metadata": {
  "kernelspec": {
   "display_name": "Python 3 (ipykernel)",
   "language": "python",
   "name": "python3"
  },
  "language_info": {
   "codemirror_mode": {
    "name": "ipython",
    "version": 3
   },
   "file_extension": ".py",
   "mimetype": "text/x-python",
   "name": "python",
   "nbconvert_exporter": "python",
   "pygments_lexer": "ipython3",
   "version": "3.9.13"
  }
 },
 "nbformat": 4,
 "nbformat_minor": 5
}
